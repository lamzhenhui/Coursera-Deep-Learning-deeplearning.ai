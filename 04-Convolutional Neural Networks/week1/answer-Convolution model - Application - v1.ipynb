{
    "cells": [
        {
            "cell_type": "markdown",
            "metadata": {},
            "source": [
                "# Convolutional Neural Networks: Application\n",
                "\n",
                "Welcome to Course 4's second assignment! In this notebook, you will:\n",
                "\n",
                "- Implement helper functions that you will use when implementing a TensorFlow model\n",
                "- Implement a fully functioning ConvNet using TensorFlow \n",
                "\n",
                "**After this assignment you will be able to:**\n",
                "\n",
                "- Build and train a ConvNet in TensorFlow for a classification problem \n",
                "\n",
                "We assume here that you are already familiar with TensorFlow. If you are not, please refer the *TensorFlow Tutorial* of the third week of Course 2 (\"*Improving deep neural networks*\")."
            ]
        },
        {
            "cell_type": "markdown",
            "metadata": {},
            "source": [
                "## 1.0 - TensorFlow model\n",
                "\n",
                "In the previous assignment, you built helper functions using numpy to understand the mechanics behind convolutional neural networks. Most practical applications of deep learning today are built using programming frameworks, which have many built-in functions you can simply call. \n",
                "\n",
                "As usual, we will start by loading in the packages. "
            ]
        },
        {
            "cell_type": "code",
            "execution_count": 39,
            "metadata": {
                "collapsed": true,
                "scrolled": true
            },
            "outputs": [],
            "source": [
                "import math\n",
                "import numpy as np\n",
                "import h5py\n",
                "import matplotlib.pyplot as plt\n",
                "import scipy\n",
                "from PIL import Image\n",
                "from scipy import ndimage\n",
                "import tensorflow as tf\n",
                "from tensorflow.python.framework import ops\n",
                "from cnn_utils import *\n",
                "from utils_tool.utils import utils\n",
                "\n",
                "%matplotlib inline\n",
                "np.random.seed(1)"
            ]
        },
        {
            "cell_type": "markdown",
            "metadata": {},
            "source": [
                "Run the next cell to load the \"SIGNS\" dataset you are going to use."
            ]
        },
        {
            "cell_type": "code",
            "execution_count": 40,
            "metadata": {
                "collapsed": true
            },
            "outputs": [],
            "source": [
                "# Loading the data (signs)\n",
                "X_train_orig, Y_train_orig, X_test_orig, Y_test_orig, classes = load_dataset()"
            ]
        },
        {
            "cell_type": "markdown",
            "metadata": {},
            "source": [
                "As a reminder, the SIGNS dataset is a collection of 6 signs representing numbers from 0 to 5.\n",
                "\n",
                "<img src=\"images/SIGNS.png\" style=\"width:800px;height:300px;\">\n",
                "\n",
                "The next cell will show you an example of a labelled image in the dataset. Feel free to change the value of `index` below and re-run to see different examples. "
            ]
        },
        {
            "cell_type": "code",
            "execution_count": 41,
            "metadata": {},
            "outputs": [
                {
                    "name": "stdout",
                    "output_type": "stream",
                    "text": [
                        "y = 2\n"
                    ]
                },
                {
                    "data": {
                        "image/png": "[encoded data removed]",
                        "text/plain": [
                            "<Figure size 640x480 with 1 Axes>"
                        ]
                    },
                    "metadata": {},
                    "output_type": "display_data"
                }
            ],
            "source": [
                "# Example of a picture\n",
                "index = 6\n",
                "plt.imshow(X_train_orig[index])\n",
                "print (\"y = \" + str(np.squeeze(Y_train_orig[:, index])))"
            ]
        },
        {
            "cell_type": "markdown",
            "metadata": {},
            "source": [
                "In Course 2, you had built a fully-connected network for this dataset. But since this is an image dataset, it is more natural to apply a ConvNet to it.\n",
                "\n",
                "To get started, let's examine the shapes of your data. "
            ]
        },
        {
            "cell_type": "code",
            "execution_count": 42,
            "metadata": {},
            "outputs": [
                {
                    "name": "stdout",
                    "output_type": "stream",
                    "text": [
                        "number of training examples = 1080\n",
                        "number of test examples = 120\n",
                        "X_train shape: (1080, 64, 64, 3)\n",
                        "Y_train shape: (1080, 6)\n",
                        "X_test shape: (120, 64, 64, 3)\n",
                        "Y_test shape: (120, 6)\n"
                    ]
                }
            ],
            "source": [
                "X_train = X_train_orig/255.\n",
                "X_test = X_test_orig/255.\n",
                "Y_train = convert_to_one_hot(Y_train_orig, 6).T\n",
                "Y_test = convert_to_one_hot(Y_test_orig, 6).T\n",
                "print (\"number of training examples = \" + str(X_train.shape[0]))\n",
                "print (\"number of test examples = \" + str(X_test.shape[0]))\n",
                "print (\"X_train shape: \" + str(X_train.shape))\n",
                "print (\"Y_train shape: \" + str(Y_train.shape))\n",
                "print (\"X_test shape: \" + str(X_test.shape))\n",
                "print (\"Y_test shape: \" + str(Y_test.shape))\n",
                "conv_layers = {}"
            ]
        },
        {
            "cell_type": "markdown",
            "metadata": {
                "collapsed": true
            },
            "source": [
                "### 1.1 - Create placeholders\n",
                "\n",
                "TensorFlow requires that you create placeholders for the input data that will be fed into the model when running the session.\n",
                "\n",
                "**Exercise**: Implement the function below to create placeholders for the input image X and the output Y. You should not define the number of training examples for the moment. To do so, you could use \"None\" as the batch size, it will give you the flexibility to choose it later. Hence X should be of dimension **[None, n_H0, n_W0, n_C0]** and Y should be of dimension **[None, n_y]**.  [Hint](https://www.tensorflow.org/api_docs/python/tf/placeholder)."
            ]
        },
        {
            "cell_type": "code",
            "execution_count": 43,
            "metadata": {
                "collapsed": true
            },
            "outputs": [],
            "source": [
                "# GRADED FUNCTION: create_placeholders\n",
                "\n",
                "def create_placeholders(n_H0, n_W0, n_C0, n_y):\n",
                "    \"\"\"\n",
                "    Creates the placeholders for the tensorflow session.\n",
                "    \n",
                "    Arguments:\n",
                "    n_H0 -- scalar, height of an input image\n",
                "    n_W0 -- scalar, width of an input image\n",
                "    n_C0 -- scalar, number of channels of the input\n",
                "    n_y -- scalar, number of classes\n",
                "        \n",
                "    Returns:\n",
                "    X -- placeholder for the data input, of shape [None, n_H0, n_W0, n_C0] and dtype \"float\"\n",
                "    Y -- placeholder for the input labels, of shape [None, n_y] and dtype \"float\"\n",
                "    \"\"\"\n",
                "\n",
                "    ### START CODE HERE ### (≈2 lines)\n",
                "    if utils.keras_version_check_v2():\n",
                "        tf.compat.v1.disable_eager_execution()\n",
                "        X = tf.compat.v1.placeholder(tf.float32, [None, n_H0, n_W0, n_C0])\n",
                "        # X = tf.Variable(initial_value=tf.zeros([n_H0, n_W0, n_C0], dtype=tf.float32))\n",
                "        # X = tf.TensorSpec(shape=[None, n_H0, n_W0, n_C0], dtype=tf.float32)\n",
                "\n",
                "\n",
                "        Y = tf.compat.v1.placeholder(tf.float32, [None, n_y])\n",
                "        # Y = tf.Variable(initial_value=tf.zeros([ n_y], dtype=tf.float32))\n",
                "        # Y = tf.TensorSpec(shape=[None, n_y], dtype=tf.float32)\n",
                "        \"\"\"\n",
                "        RuntimeError: tf.placeholder() is not compatible with eager execution.\n",
                "\n",
                "        \"\"\"\n",
                "    else:\n",
                "        X = tf.placeholder(tf.float32, [None, n_H0, n_W0, n_C0])\n",
                "\n",
                "        Y = tf.placeholder(tf.float32, [None, n_y])\n",
                "    ### END CODE HERE ###\n",
                "    \n",
                "    return X, Y"
            ]
        },
        {
            "cell_type": "code",
            "execution_count": 44,
            "metadata": {},
            "outputs": [
                {
                    "name": "stdout",
                    "output_type": "stream",
                    "text": [
                        "X = Tensor(\"Placeholder_2:0\", shape=(None, 64, 64, 3), dtype=float32)\n",
                        "Y = Tensor(\"Placeholder_3:0\", shape=(None, 6), dtype=float32)\n"
                    ]
                }
            ],
            "source": [
                "X, Y = create_placeholders(64, 64, 3, 6)\n",
                "print (\"X = \" + str(X))\n",
                "print (\"Y = \" + str(Y))"
            ]
        },
        {
            "cell_type": "markdown",
            "metadata": {},
            "source": [
                "**Expected Output**\n",
                "\n",
                "<table> \n",
                "<tr>\n",
                "<td>\n",
                "    X = Tensor(\"Placeholder:0\", shape=(?, 64, 64, 3), dtype=float32)\n",
                "\n",
                "</td>\n",
                "</tr>\n",
                "<tr>\n",
                "<td>\n",
                "    Y = Tensor(\"Placeholder_1:0\", shape=(?, 6), dtype=float32)\n",
                "\n",
                "</td>\n",
                "</tr>\n",
                "</table>"
            ]
        },
        {
            "cell_type": "markdown",
            "metadata": {},
            "source": [
                "### 1.2 - Initialize parameters\n",
                "\n",
                "You will initialize weights/filters $W1$ and $W2$ using `tf.contrib.layers.xavier_initializer(seed = 0)`. You don't need to worry about bias variables as you will soon see that TensorFlow functions take care of the bias. Note also that you will only initialize the weights/filters for the conv2d functions. TensorFlow initializes the layers for the fully connected part automatically. We will talk more about that later in this assignment.\n",
                "\n",
                "**Exercise:** Implement initialize_parameters(). The dimensions for each group of filters are provided below. Reminder - to initialize a parameter $W$ of shape [1,2,3,4] in Tensorflow, use:\n",
                "```python\n",
                "W = tf.get_variable(\"W\", [1,2,3,4], initializer = ...)\n",
                "```\n",
                "[More Info](https://www.tensorflow.org/api_docs/python/tf/get_variable)."
            ]
        },
        {
            "cell_type": "code",
            "execution_count": 45,
            "metadata": {
                "collapsed": true
            },
            "outputs": [],
            "source": [
                "# GRADED FUNCTION: initialize_parameters\n",
                "\n",
                "def initialize_parameters():\n",
                "    \"\"\"\n",
                "    Initializes weight parameters to build a neural network with tensorflow. The shapes are:\n",
                "                        W1 : [4, 4, 3, 8]\n",
                "                        W2 : [2, 2, 8, 16]\n",
                "    Returns:\n",
                "    parameters -- a dictionary of tensors containing W1, W2\n",
                "    \"\"\"\n",
                "    \n",
                "    tf.compat.v1.set_random_seed(1)                              # so that your \"random\" numbers match ours\n",
                "        \n",
                "    ### START CODE HERE ### (approx. 2 lines of code)\n",
                "    if utils.keras_version_check_v2():\n",
                "        initializer =  tf.keras.initializers.GlorotNormal(seed=0)\n",
                "        W1 = tf.Variable(name=\"W1\",\n",
                "                         initial_value=initializer(shape=(4,4,3,8)))\n",
                "        W2 = tf.Variable(name=\"W2\",\n",
                "                         initial_value=initializer(shape=(2,2,8,16)))\n",
                "        # print('>>')\n",
                "        # raise Exception\n",
                "        # W1 = tf.get_variable(\"W1\", [4, 4, 3, 8], initializer=tf.contrib.layers.xavier_initializer(seed=0))\n",
                "        # W2 = tf.get_variable(\"W2\", [2, 2, 8, 16], initializer=tf.contrib.layers.xavier_initializer(seed=0))\n",
                "        # A_prev = tf.Variable(initial_value=tf.zeros([3,4,4,6], dtype=tf.float32))\n",
                "    else:\n",
                "        W1 = tf.get_variable(\"W1\", [4, 4, 3, 8], initializer=tf.contrib.layers.xavier_initializer(seed=0))\n",
                "        W2 = tf.get_variable(\"W2\", [2, 2, 8, 16], initializer=tf.contrib.layers.xavier_initializer(seed=0))\n",
                "    ### END CODE HERE ###\n",
                "    \"\"\"\n",
                "    AttributeError: module 'tensorflow' has no attribute 'get_variable'\n",
                "\n",
                "    ValueError: The `initial_value` arg to `tf.Variable` must be specified except when you are not providing a `variable_def`. You provided neither.\n",
                "\n",
                "\n",
                "    \"\"\"\n",
                "\n",
                "    parameters = {\"W1\": W1,\n",
                "                  \"W2\": W2}\n",
                "    \n",
                "    return parameters"
            ]
        },
        {
            "cell_type": "code",
            "execution_count": 46,
            "metadata": {},
            "outputs": [
                {
                    "name": "stdout",
                    "output_type": "stream",
                    "text": [
                        "W1 = [ 0.03393849 -0.16554174 -0.006313    0.01852748 -0.03301779 -0.03344928\n",
                        " -0.14225453  0.13832784]\n",
                        "W2 = [ 0.18496291 -0.17294659 -0.22462192 -0.00193902 -0.12594481  0.02987488\n",
                        " -0.23320328 -0.23961914  0.14771584  0.09277791  0.01622899  0.24536026\n",
                        " -0.12588692 -0.32413897 -0.21403536 -0.17823085]\n"
                    ]
                },
                {
                    "name": "stderr",
                    "output_type": "stream",
                    "text": [
                        "2024-08-27 18:08:17.337503: I tensorflow/core/common_runtime/pluggable_device/pluggable_device_factory.cc:305] Could not identify NUMA node of platform GPU ID 0, defaulting to 0. Your kernel may not have been built with NUMA support.\n",
                        "2024-08-27 18:08:17.337744: I tensorflow/core/common_runtime/pluggable_device/pluggable_device_factory.cc:271] Created TensorFlow device (/job:localhost/replica:0/task:0/device:GPU:0 with 0 MB memory) -> physical PluggableDevice (device: 0, name: METAL, pci bus id: <undefined>)\n"
                    ]
                }
            ],
            "source": [
                "tf.compat.v1.reset_default_graph()\n",
                "with tf.compat.v1.Session() as sess_test:\n",
                "    parameters = initialize_parameters()\n",
                "    if utils.keras_version_check_v2():\n",
                "        init = tf.compat.v1.global_variables_initializer() # tf 2.0之后已弃用\n",
                "    else:\n",
                "        init = tf.global_variables_initializer() # tf 2.0之后已弃用\n",
                "    \"\"\"\n",
                "    AttributeError: module 'tensorflow' has no attribute 'global_variables_initializer'\n",
                "\n",
                "    \"\"\"\n",
                "    sess_test.run(init)\n",
                "    print(\"W1 = \" + str(parameters[\"W1\"].eval()[1,1,1]))\n",
                "    print(\"W2 = \" + str(parameters[\"W2\"].eval()[1,1,1]))"
            ]
        },
        {
            "cell_type": "markdown",
            "metadata": {},
            "source": [
                "** Expected Output:**\n",
                "\n",
                "<table> \n",
                "\n",
                "    <tr>\n",
                "        <td>\n",
                "        W1 = \n",
                "        </td>\n",
                "        <td>\n",
                "[ 0.00131723  0.14176141 -0.04434952  0.09197326  0.14984085 -0.03514394 <br>\n",
                " -0.06847463  0.05245192]\n",
                "        </td>\n",
                "    </tr>\n",
                "\n",
                "    <tr>\n",
                "        <td>\n",
                "        W2 = \n",
                "        </td>\n",
                "        <td>\n",
                "[-0.08566415  0.17750949  0.11974221  0.16773748 -0.0830943  -0.08058 <br>\n",
                " -0.00577033 -0.14643836  0.24162132 -0.05857408 -0.19055021  0.1345228 <br>\n",
                " -0.22779644 -0.1601823  -0.16117483 -0.10286498]\n",
                "        </td>\n",
                "    </tr>\n",
                "\n",
                "</table>"
            ]
        },
        {
            "cell_type": "markdown",
            "metadata": {},
            "source": [
                "### 1.2 - Forward propagation\n",
                "\n",
                "In TensorFlow, there are built-in functions that carry out the convolution steps for you.\n",
                "\n",
                "- **tf.nn.conv2d(X,W1, strides = [1,s,s,1], padding = 'SAME'):** given an input $X$ and a group of filters $W1$, this function convolves $W1$'s filters on X. The third input ([1,f,f,1]) represents the strides for each dimension of the input (m, n_H_prev, n_W_prev, n_C_prev). You can read the full documentation [here](https://www.tensorflow.org/api_docs/python/tf/nn/conv2d)\n",
                "\n",
                "- **tf.nn.max_pool(A, ksize = [1,f,f,1], strides = [1,s,s,1], padding = 'SAME'):** given an input A, this function uses a window of size (f, f) and strides of size (s, s) to carry out max pooling over each window. You can read the full documentation [here](https://www.tensorflow.org/api_docs/python/tf/nn/max_pool)\n",
                "\n",
                "- **tf.nn.relu(Z1):** computes the elementwise ReLU of Z1 (which can be any shape). You can read the full documentation [here.](https://www.tensorflow.org/api_docs/python/tf/nn/relu)\n",
                "\n",
                "- **tf.contrib.layers.flatten(P)**: given an input P, this function flattens each example into a 1D vector it while maintaining the batch-size. It returns a flattened tensor with shape [batch_size, k]. You can read the full documentation [here.](https://www.tensorflow.org/api_docs/python/tf/contrib/layers/flatten)\n",
                "\n",
                "- **tf.contrib.layers.fully_connected(F, num_outputs):** given a the flattened input F, it returns the output computed using a fully connected layer. You can read the full documentation [here.](https://www.tensorflow.org/api_docs/python/tf/contrib/layers/fully_connected)\n",
                "\n",
                "In the last function above (`tf.contrib.layers.fully_connected`), the fully connected layer automatically initializes weights in the graph and keeps on training them as you train the model. Hence, you did not need to initialize those weights when initializing the parameters. \n",
                "\n",
                "\n",
                "**Exercise**: \n",
                "\n",
                "Implement the `forward_propagation` function below to build the following model: `CONV2D -> RELU -> MAXPOOL -> CONV2D -> RELU -> MAXPOOL -> FLATTEN -> FULLYCONNECTED`. You should use the functions above. \n",
                "\n",
                "In detail, we will use the following parameters for all the steps:\n",
                "     - Conv2D: stride 1, padding is \"SAME\"\n",
                "     - ReLU\n",
                "     - Max pool: Use an 8 by 8 filter size and an 8 by 8 stride, padding is \"SAME\"\n",
                "     - Conv2D: stride 1, padding is \"SAME\"\n",
                "     - ReLU\n",
                "     - Max pool: Use a 4 by 4 filter size and a 4 by 4 stride, padding is \"SAME\"\n",
                "     - Flatten the previous output.\n",
                "     - FULLYCONNECTED (FC) layer: Apply a fully connected layer without an non-linear activation function. Do not call the softmax here. This will result in 6 neurons in the output layer, which then get passed later to a softmax. In TensorFlow, the softmax and cost function are lumped together into a single function, which you'll call in a different function when computing the cost. "
            ]
        },
        {
            "cell_type": "code",
            "execution_count": 47,
            "metadata": {
                "collapsed": true
            },
            "outputs": [],
            "source": [
                "# GRADED FUNCTION: forward_propagation\n",
                "\n",
                "def forward_propagation(X, parameters):\n",
                "    \"\"\"\n",
                "    Implements the forward propagation for the model:\n",
                "    CONV2D -> RELU -> MAXPOOL -> CONV2D -> RELU -> MAXPOOL -> FLATTEN -> FULLYCONNECTED\n",
                "    \n",
                "    Arguments:\n",
                "    X -- input dataset placeholder, of shape (input size, number of examples)\n",
                "    parameters -- python dictionary containing your parameters \"W1\", \"W2\"\n",
                "                  the shapes are given in initialize_parameters\n",
                "\n",
                "    Returns:\n",
                "    Z3 -- the output of the last LINEAR unit\n",
                "    \"\"\"\n",
                "    \n",
                "    # Retrieve the parameters from the dictionary \"parameters\" \n",
                "    W1 = parameters['W1']\n",
                "    W2 = parameters['W2']\n",
                "    \n",
                "    ### START CODE HERE ###\n",
                "    # CONV2D: stride of 1, padding 'SAME'\n",
                "    Z1 = tf.nn.conv2d(X, W1, strides=[1, 1, 1, 1], padding='SAME')\n",
                "    # RELU\n",
                "    A1 = tf.nn.relu(Z1)\n",
                "    # MAXPOOL: window 8x8, stride 8, padding 'SAME'\n",
                "    P1 = tf.nn.max_pool(A1, ksize = [1, 8, 8, 1], strides = [1, 8, 8, 1], padding='SAME')\n",
                "    # CONV2D: filters W2, stride 1, padding 'SAME'\n",
                "    Z2 = tf.nn.conv2d(P1, W2, strides=[1, 1, 1, 1], padding='SAME')\n",
                "    # RELU\n",
                "    A2 = tf.nn.relu(Z2)\n",
                "    # MAXPOOL: window 4x4, stride 4, padding 'SAME'\n",
                "    P2 = tf.nn.max_pool(A2, ksize = [1, 4, 4, 1], strides = [1, 4, 4, 1], padding='SAME')\n",
                "    # FLATTEN\n",
                "    # P = tf.contrib.layers.flatten(P2)\n",
                "    if utils.keras_version_check_v2():\n",
                "        flatten_layer = tf.keras.layers.Flatten()\n",
                "        P = flatten_layer(P2)\n",
                "        # P = tf.compat.v1.contrib.layers.flatten(P2)\n",
                "        # FULLY-CONNECTED without non-linear activation function (not not call softmax).\n",
                "        # 6 neurons in output layer. Hint: one of the arguments should be \"activation_fn=None\" \n",
                "        dense_layer = tf.keras.layers.Dense(6, activation=None)\n",
                "        Z3 = dense_layer(P)\n",
                "        # Z3 = tf.contrib.layers.fully_connected(P, 6, activation_fn=None)\n",
                "    else:\n",
                "        P = tf.contrib.layers.flatten(P2)\n",
                "        # FULLY-CONNECTED without non-linear activation function (not not call softmax).\n",
                "        # 6 neurons in output layer. Hint: one of the arguments should be \"activation_fn=None\" \n",
                "        Z3 = tf.contrib.layers.fully_connected(P, 6, activation_fn=None)\n",
                "    ### END CODE HERE ###\n",
                "\n",
                "    return Z3"
            ]
        },
        {
            "cell_type": "code",
            "execution_count": 48,
            "metadata": {},
            "outputs": [
                {
                    "name": "stderr",
                    "output_type": "stream",
                    "text": [
                        "2024-08-27 18:08:17.429268: I tensorflow/core/common_runtime/pluggable_device/pluggable_device_factory.cc:305] Could not identify NUMA node of platform GPU ID 0, defaulting to 0. Your kernel may not have been built with NUMA support.\n",
                        "2024-08-27 18:08:17.429285: I tensorflow/core/common_runtime/pluggable_device/pluggable_device_factory.cc:271] Created TensorFlow device (/job:localhost/replica:0/task:0/device:GPU:0 with 0 MB memory) -> physical PluggableDevice (device: 0, name: METAL, pci bus id: <undefined>)\n"
                    ]
                },
                {
                    "name": "stdout",
                    "output_type": "stream",
                    "text": [
                        "Z3 = [[ 1.6600876   2.0122087  -2.4756362  -1.1959672   0.08218288  1.0006909 ]\n",
                        " [ 1.3987374   1.8249112  -2.2358565  -1.3620045  -0.28999674  1.0325873 ]]\n"
                    ]
                }
            ],
            "source": [
                "tf.compat.v1.reset_default_graph()\n",
                "\n",
                "with tf.compat.v1.Session() as sess:\n",
                "    np.random.seed(1)\n",
                "    X, Y = create_placeholders(64, 64, 3, 6)\n",
                "    parameters = initialize_parameters()\n",
                "    Z3 = forward_propagation(X, parameters)\n",
                "    if utils.keras_version_check_v2():\n",
                "        init = tf.compat.v1.global_variables_initializer()\n",
                "    else:\n",
                "        init = tf.global_variables_initializer()\n",
                "    sess.run(init)\n",
                "    a = sess.run(Z3, {X: np.random.randn(2,64,64,3), Y: np.random.randn(2,6)})\n",
                "    print(\"Z3 = \" + str(a))"
            ]
        },
        {
            "cell_type": "markdown",
            "metadata": {},
            "source": [
                "**Expected Output**:\n",
                "\n",
                "<table> \n",
                "    <td> \n",
                "    Z3 =\n",
                "    </td>\n",
                "    <td>\n",
                "    [[-0.44670227 -1.57208765 -1.53049231 -2.31013036 -1.29104376  0.46852064] <br>\n",
                " [-0.17601591 -1.57972014 -1.4737016  -2.61672091 -1.00810647  0.5747785 ]]\n",
                "    </td>\n",
                "</table>"
            ]
        },
        {
            "cell_type": "markdown",
            "metadata": {},
            "source": [
                "### 1.3 - Compute cost\n",
                "\n",
                "Implement the compute cost function below. You might find these two functions helpful: \n",
                "\n",
                "- **tf.nn.softmax_cross_entropy_with_logits(logits = Z3, labels = Y):** computes the softmax entropy loss. This function both computes the softmax activation function as well as the resulting loss. You can check the full documentation  [here.](https://www.tensorflow.org/api_docs/python/tf/nn/softmax_cross_entropy_with_logits)\n",
                "- **tf.reduce_mean:** computes the mean of elements across dimensions of a tensor. Use this to sum the losses over all the examples to get the overall cost. You can check the full documentation [here.](https://www.tensorflow.org/api_docs/python/tf/reduce_mean)\n",
                "\n",
                "** Exercise**: Compute the cost below using the function above."
            ]
        },
        {
            "cell_type": "code",
            "execution_count": 49,
            "metadata": {
                "collapsed": true
            },
            "outputs": [],
            "source": [
                "# GRADED FUNCTION: compute_cost \n",
                "\n",
                "def compute_cost(Z3, Y):\n",
                "    \"\"\"\n",
                "    Computes the cost\n",
                "    \n",
                "    Arguments:\n",
                "    Z3 -- output of forward propagation (output of the last LINEAR unit), of shape (6, number of examples)\n",
                "    Y -- \"true\" labels vector placeholder, same shape as Z3\n",
                "    \n",
                "    Returns:\n",
                "    cost - Tensor of the cost function\n",
                "    \"\"\"\n",
                "    \n",
                "    ### START CODE HERE ### (1 line of code)\n",
                "    cost = tf.reduce_mean(tf.nn.softmax_cross_entropy_with_logits(logits=Z3, labels=Y))\n",
                "    ### END CODE HERE ###\n",
                "    \n",
                "    return cost"
            ]
        },
        {
            "cell_type": "code",
            "execution_count": 50,
            "metadata": {},
            "outputs": [
                {
                    "name": "stderr",
                    "output_type": "stream",
                    "text": [
                        "2024-08-27 18:08:17.551269: I tensorflow/core/common_runtime/pluggable_device/pluggable_device_factory.cc:305] Could not identify NUMA node of platform GPU ID 0, defaulting to 0. Your kernel may not have been built with NUMA support.\n",
                        "2024-08-27 18:08:17.551286: I tensorflow/core/common_runtime/pluggable_device/pluggable_device_factory.cc:271] Created TensorFlow device (/job:localhost/replica:0/task:0/device:GPU:0 with 0 MB memory) -> physical PluggableDevice (device: 0, name: METAL, pci bus id: <undefined>)\n"
                    ]
                },
                {
                    "name": "stdout",
                    "output_type": "stream",
                    "text": [
                        "cost = 0.103206635\n"
                    ]
                }
            ],
            "source": [
                "tf.compat.v1.reset_default_graph()\n",
                "\n",
                "with tf.compat.v1.Session() as sess:\n",
                "    np.random.seed(1)\n",
                "    X, Y = create_placeholders(64, 64, 3, 6)\n",
                "    parameters = initialize_parameters()\n",
                "    Z3 = forward_propagation(X, parameters)\n",
                "    cost = compute_cost(Z3, Y)\n",
                "    if utils.keras_version_check_v2():\n",
                "        init = tf.compat.v1.global_variables_initializer()\n",
                "    else:\n",
                "        init = tf.global_variables_initializer()\n",
                "    sess.run(init)\n",
                "    a = sess.run(cost, {X: np.random.randn(4,64,64,3), Y: np.random.randn(4,6)})\n",
                "    print(\"cost = \" + str(a))"
            ]
        },
        {
            "cell_type": "markdown",
            "metadata": {},
            "source": [
                "**Expected Output**: \n",
                "\n",
                "<table>\n",
                "    <td> \n",
                "    cost =\n",
                "    </td> \n",
                "    \n",
                "    <td> \n",
                "    2.91034\n",
                "    </td> \n",
                "</table>"
            ]
        },
        {
            "cell_type": "markdown",
            "metadata": {},
            "source": [
                "## 1.4 Model \n",
                "\n",
                "Finally you will merge the helper functions you implemented above to build a model. You will train it on the SIGNS dataset. \n",
                "\n",
                "You have implemented `random_mini_batches()` in the Optimization programming assignment of course 2. Remember that this function returns a list of mini-batches. \n",
                "\n",
                "**Exercise**: Complete the function below. \n",
                "\n",
                "The model below should:\n",
                "\n",
                "- create placeholders\n",
                "- initialize parameters\n",
                "- forward propagate\n",
                "- compute the cost\n",
                "- create an optimizer\n",
                "\n",
                "Finally you will create a session and run a for loop  for num_epochs, get the mini-batches, and then for each mini-batch you will optimize the function. [Hint for initializing the variables](https://www.tensorflow.org/api_docs/python/tf/global_variables_initializer)"
            ]
        },
        {
            "cell_type": "code",
            "execution_count": 51,
            "metadata": {
                "collapsed": true
            },
            "outputs": [],
            "source": [
                "# GRADED FUNCTION: model\n",
                "\n",
                "def model(X_train, Y_train, X_test, Y_test, learning_rate=0.009,\n",
                "          num_epochs=100, minibatch_size=64, print_cost=True):\n",
                "    \"\"\"\n",
                "    Implements a three-layer ConvNet in Tensorflow:\n",
                "    CONV2D -> RELU -> MAXPOOL -> CONV2D -> RELU -> MAXPOOL -> FLATTEN -> FULLYCONNECTED\n",
                "    \n",
                "    Arguments:\n",
                "    X_train -- training set, of shape (None, 64, 64, 3)\n",
                "    Y_train -- test set, of shape (None, n_y = 6)\n",
                "    X_test -- training set, of shape (None, 64, 64, 3)\n",
                "    Y_test -- test set, of shape (None, n_y = 6)\n",
                "    learning_rate -- learning rate of the optimization\n",
                "    num_epochs -- number of epochs of the optimization loop\n",
                "    minibatch_size -- size of a minibatch\n",
                "    print_cost -- True to print the cost every 100 epochs\n",
                "    \n",
                "    Returns:\n",
                "    train_accuracy -- real number, accuracy on the train set (X_train)\n",
                "    test_accuracy -- real number, testing accuracy on the test set (X_test)\n",
                "    parameters -- parameters learnt by the model. They can then be used to predict.\n",
                "    \"\"\"\n",
                "    \n",
                "    ops.reset_default_graph()                         # to be able to rerun the model without overwriting tf variables\n",
                "    tf.compat.v1.set_random_seed(1)                             # to keep results consistent (tensorflow seed)\n",
                "    seed = 3                                          # to keep results consistent (numpy seed)\n",
                "    (m, n_H0, n_W0, n_C0) = X_train.shape             \n",
                "    n_y = Y_train.shape[1]                            \n",
                "    costs = []                                        # To keep track of the cost\n",
                "    \n",
                "    # Create Placeholders of the correct shape\n",
                "    ### START CODE HERE ### (1 line)\n",
                "    X, Y = create_placeholders(n_H0, n_W0, n_C0, n_y)\n",
                "    ### END CODE HERE ###\n",
                "\n",
                "    # Initialize parameters\n",
                "    ### START CODE HERE ### (1 line)\n",
                "    parameters = initialize_parameters()\n",
                "    ### END CODE HERE ###\n",
                "    \n",
                "    # Forward propagation: Build the forward propagation in the tensorflow graph\n",
                "    ### START CODE HERE ### (1 line)\n",
                "    Z3 = forward_propagation(X, parameters)\n",
                "    ### END CODE HERE ###\n",
                "    \n",
                "    # Cost function: Add cost function to tensorflow graph\n",
                "    ### START CODE HERE ### (1 line)\n",
                "    cost = compute_cost(Z3, Y)\n",
                "    ### END CODE HERE ###\n",
                "    \n",
                "    # Backpropagation: Define the tensorflow optimizer. Use an AdamOptimizer that minimizes the cost.\n",
                "    ### START CODE HERE ### (1 line)\n",
                "    if utils.keras_version_check_v2():\n",
                "        optimizer = tf.compat.v1.train.AdamOptimizer(learning_rate=learning_rate).minimize(cost)\n",
                "        # Initialize all the variables globally\n",
                "        \n",
                "        init = tf.compat.v1.global_variables_initializer()\n",
                "    else:\n",
                "        optimizer = tf.train.AdamOptimizer(learning_rate=learning_rate).minimize(cost)\n",
                "        init = tf.global_variables_initializer()\n",
                "    ### END CODE HERE ###\n",
                "    \n",
                "     \n",
                "    # Start the session to compute the tensorflow graph\n",
                "    with tf.compat.v1.Session() as sess:\n",
                "        \n",
                "        # Run the initialization\n",
                "        sess.run(init)\n",
                "        \n",
                "        # Do the training loop\n",
                "        for epoch in range(num_epochs):\n",
                "\n",
                "            minibatch_cost = 0.\n",
                "            num_minibatches = int(m / minibatch_size) # number of minibatches of size minibatch_size in the train set\n",
                "            seed = seed + 1\n",
                "            minibatches = random_mini_batches(X_train, Y_train, minibatch_size, seed)\n",
                "\n",
                "            for minibatch in minibatches:\n",
                "\n",
                "                # Select a minibatch\n",
                "                (minibatch_X, minibatch_Y) = minibatch\n",
                "                # IMPORTANT: The line that runs the graph on a minibatch.\n",
                "                # Run the session to execute the optimizer and the cost, the feedict should contain a minibatch for (X,Y).\n",
                "                ### START CODE HERE ### (1 line)\n",
                "                _ , temp_cost = sess.run([optimizer, cost], feed_dict={X:minibatch_X, Y:minibatch_Y})\n",
                "                ### END CODE HERE ###\n",
                "                \n",
                "                minibatch_cost += temp_cost / num_minibatches\n",
                "                \n",
                "\n",
                "            # Print the cost every epoch\n",
                "            if print_cost == True and epoch % 5 == 0:\n",
                "                print (\"Cost after epoch %i: %f\" % (epoch, minibatch_cost))\n",
                "            if print_cost == True and epoch % 1 == 0:\n",
                "                costs.append(minibatch_cost)\n",
                "        \n",
                "        \n",
                "        # plot the cost\n",
                "        plt.plot(np.squeeze(costs))\n",
                "        plt.ylabel('cost')\n",
                "        plt.xlabel('iterations (per tens)')\n",
                "        plt.title(\"Learning rate =\" + str(learning_rate))\n",
                "        plt.show()\n",
                "\n",
                "        # Calculate the correct predictions\n",
                "        predict_op = tf.argmax(Z3, 1)\n",
                "        correct_prediction = tf.equal(predict_op, tf.argmax(Y, 1))\n",
                "        \n",
                "        # Calculate accuracy on the test set\n",
                "        accuracy = tf.reduce_mean(tf.cast(correct_prediction, \"float\"))\n",
                "        print(accuracy)\n",
                "        train_accuracy = accuracy.eval({X: X_train, Y: Y_train})\n",
                "        test_accuracy = accuracy.eval({X: X_test, Y: Y_test})\n",
                "        print(\"Train Accuracy:\", train_accuracy)\n",
                "        print(\"Test Accuracy:\", test_accuracy)\n",
                "                \n",
                "        return train_accuracy, test_accuracy, parameters"
            ]
        },
        {
            "cell_type": "markdown",
            "metadata": {},
            "source": [
                "Run the following cell to train your model for 100 epochs. Check if your cost after epoch 0 and 5 matches our output. If not, stop the cell and go back to your code!"
            ]
        },
        {
            "cell_type": "code",
            "execution_count": 52,
            "metadata": {},
            "outputs": [
                {
                    "name": "stderr",
                    "output_type": "stream",
                    "text": [
                        "2024-08-27 18:08:17.711259: I tensorflow/core/common_runtime/pluggable_device/pluggable_device_factory.cc:305] Could not identify NUMA node of platform GPU ID 0, defaulting to 0. Your kernel may not have been built with NUMA support.\n",
                        "2024-08-27 18:08:17.711280: I tensorflow/core/common_runtime/pluggable_device/pluggable_device_factory.cc:271] Created TensorFlow device (/job:localhost/replica:0/task:0/device:GPU:0 with 0 MB memory) -> physical PluggableDevice (device: 0, name: METAL, pci bus id: <undefined>)\n"
                    ]
                },
                {
                    "name": "stdout",
                    "output_type": "stream",
                    "text": [
                        "Cost after epoch 0: 1.912801\n",
                        "Cost after epoch 5: 1.582429\n",
                        "Cost after epoch 10: 1.176615\n",
                        "Cost after epoch 15: 0.895553\n",
                        "Cost after epoch 20: 0.673346\n",
                        "Cost after epoch 25: 0.547848\n",
                        "Cost after epoch 30: 0.464001\n",
                        "Cost after epoch 35: 0.417658\n",
                        "Cost after epoch 40: 0.371273\n",
                        "Cost after epoch 45: 0.310956\n",
                        "Cost after epoch 50: 0.276268\n",
                        "Cost after epoch 55: 0.261657\n",
                        "Cost after epoch 60: 0.225393\n",
                        "Cost after epoch 65: 0.212436\n",
                        "Cost after epoch 70: 0.190046\n",
                        "Cost after epoch 75: 0.200369\n",
                        "Cost after epoch 80: 0.182460\n",
                        "Cost after epoch 85: 0.159606\n",
                        "Cost after epoch 90: 0.152882\n",
                        "Cost after epoch 95: 0.154688\n"
                    ]
                },
                {
                    "data": {
                        "image/png": "[encoded data removed]",
                        "text/plain": [
                            "<Figure size 640x480 with 1 Axes>"
                        ]
                    },
                    "metadata": {},
                    "output_type": "display_data"
                },
                {
                    "name": "stdout",
                    "output_type": "stream",
                    "text": [
                        "Tensor(\"Mean_1:0\", shape=(), dtype=float32)\n",
                        "Train Accuracy: 0.97499996\n",
                        "Test Accuracy: 0.78333336\n"
                    ]
                }
            ],
            "source": [
                "_, _, parameters = model(X_train, Y_train, X_test, Y_test)"
            ]
        },
        {
            "cell_type": "markdown",
            "metadata": {},
            "source": [
                "**Expected output**: although it may not match perfectly, your expected output should be close to ours and your cost value should decrease.\n",
                "\n",
                "<table> \n",
                "<tr>\n",
                "    <td> \n",
                "    **Cost after epoch 0 =**\n",
                "    </td>\n",
                "\n",
                "    <td> \n",
                "      1.917929\n",
                "    </td> \n",
                "</tr>\n",
                "<tr>\n",
                "    <td> \n",
                "    **Cost after epoch 5 =**\n",
                "    </td>\n",
                "\n",
                "    <td> \n",
                "      1.506757\n",
                "    </td> \n",
                "</tr>\n",
                "<tr>\n",
                "    <td> \n",
                "    **Train Accuracy   =**\n",
                "    </td>\n",
                "\n",
                "    <td> \n",
                "      0.940741\n",
                "    </td> \n",
                "</tr> \n",
                "\n",
                "<tr>\n",
                "    <td> \n",
                "    **Test Accuracy   =**\n",
                "    </td>\n",
                "\n",
                "    <td> \n",
                "      0.783333\n",
                "    </td> \n",
                "</tr> \n",
                "</table>"
            ]
        },
        {
            "cell_type": "markdown",
            "metadata": {},
            "source": [
                "Congratulations! You have finised the assignment and built a model that recognizes SIGN language with almost 80% accuracy on the test set. If you wish, feel free to play around with this dataset further. You can actually improve its accuracy by spending more time tuning the hyperparameters, or using regularization (as this model clearly has a high variance). \n",
                "\n",
                "Once again, here's a thumbs up for your work! "
            ]
        },
        {
            "cell_type": "code",
            "execution_count": 53,
            "metadata": {},
            "outputs": [
                {
                    "data": {
                        "text/plain": [
                            "<matplotlib.image.AxesImage at 0x17f71ab80>"
                        ]
                    },
                    "execution_count": 53,
                    "metadata": {},
                    "output_type": "execute_result"
                },
                {
                    "data": {
                        "image/png": "[encoded data removed]",
                        "text/plain": [
                            "<Figure size 640x480 with 1 Axes>"
                        ]
                    },
                    "metadata": {},
                    "output_type": "display_data"
                }
            ],
            "source": [
                "fname = \"images/thumbs_up.jpg\"\n",
                "import matplotlib.pyplot as plt\n",
                "image = np.array(plt.imread(fname))\n",
                "\n",
                "# 使用 Pillow 加载图像\n",
                "from PIL import Image\n",
                "image_pil = Image.fromarray(image)\n",
                "\n",
                "# 调整图像大小，类似于 scipy.misc.imresize\n",
                "my_image = image_pil.resize((64, 64), Image.BILINEAR)\n",
                "\n",
                "# my_image = scipy.misc.imresize(image, size=(64,64))\n",
                "plt.imshow(my_image)"
            ]
        },
        {
            "cell_type": "code",
            "execution_count": null,
            "metadata": {
                "collapsed": true
            },
            "outputs": [],
            "source": []
        }
    ],
    "metadata": {
        "coursera": {
            "course_slug": "convolutional-neural-networks",
            "graded_item_id": "bwbJV",
            "launcher_item_id": "0TkXB"
        },
        "kernelspec": {
            "display_name": "Python 3",
            "language": "python",
            "name": "python3"
        },
        "language_info": {
            "codemirror_mode": {
                "name": "ipython",
                "version": 3
            },
            "file_extension": ".py",
            "mimetype": "text/x-python",
            "name": "python",
            "nbconvert_exporter": "python",
            "pygments_lexer": "ipython3",
            "version": "3.9.6"
        }
    },
    "nbformat": 4,
    "nbformat_minor": 1
}
