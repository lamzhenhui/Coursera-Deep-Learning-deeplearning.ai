{
    "cells": [
        {
            "cell_type": "markdown",
            "metadata": {},
            "source": [
                "# Neural Machine Translation\n",
                "\n",
                "Welcome to your first programming assignment for this week! \n",
                "\n",
                "You will build a Neural Machine Translation (NMT) model to translate human readable dates (\"25th of June, 2009\") into machine readable dates (\"2009-06-25\"). You will do this using an attention model, one of the most sophisticated sequence to sequence models. \n",
                "\n",
                "This notebook was produced together with NVIDIA's Deep Learning Institute. \n",
                "\n",
                "Let's load all the packages you will need for this assignment."
            ]
        },
        {
            "cell_type": "code",
            "execution_count": 65,
            "metadata": {},
            "outputs": [],
            "source": [
                "from keras.api.layers import Bidirectional, Concatenate, Permute, Dot, Input, LSTM, Multiply\n",
                "from keras.api.layers import RepeatVector, Dense, Activation, Lambda\n",
                "from keras.optimizers import Adam\n",
                "from keras.utils import to_categorical\n",
                "from keras.api.models import load_model, Model\n",
                "import keras.backend as K\n",
                "import numpy as np\n",
                "# import tensorflow.compat.v1 as tf\n",
                "# tf.disable_v2_behavior()\n",
                "\n",
                "from faker import Faker\n",
                "import random\n",
                "from tqdm import tqdm\n",
                "from babel.dates import format_date\n",
                "from nmt_utils import *\n",
                "import matplotlib.pyplot as plt\n",
                "%matplotlib inline"
            ]
        },
        {
            "cell_type": "markdown",
            "metadata": {},
            "source": [
                "## 1 - Translating human readable dates into machine readable dates\n",
                "\n",
                "The model you will build here could be used to translate from one language to another, such as translating from English to Hindi. However, language translation requires massive datasets and usually takes days of training on GPUs. To give you a place to experiment with these models even without using massive datasets, we will instead use a simpler \"date translation\" task. \n",
                "\n",
                "The network will input a date written in a variety of possible formats (*e.g. \"the 29th of August 1958\", \"03/30/1968\", \"24 JUNE 1987\"*) and translate them into standardized, machine readable dates (*e.g. \"1958-08-29\", \"1968-03-30\", \"1987-06-24\"*). We will have the network learn to output dates in the common machine-readable format YYYY-MM-DD. \n",
                "\n",
                "\n",
                "\n",
                "<!-- \n",
                "Take a look at [nmt_utils.py](./nmt_utils.py) to see all the formatting. Count and figure out how the formats work, you will need this knowledge later. !--> "
            ]
        },
        {
            "cell_type": "markdown",
            "metadata": {},
            "source": [
                "### 1.1 - Dataset\n",
                "\n",
                "We will train the model on a dataset of 10000 human readable dates and their equivalent, standardized, machine readable dates. Let's run the following cells to load the dataset and print some examples. "
            ]
        },
        {
            "cell_type": "code",
            "execution_count": 66,
            "metadata": {},
            "outputs": [
                {
                    "name": "stderr",
                    "output_type": "stream",
                    "text": [
                        "  0%|          | 0/10000 [00:00<?, ?it/s]"
                    ]
                },
                {
                    "name": "stderr",
                    "output_type": "stream",
                    "text": [
                        "100%|██████████| 10000/10000 [00:00<00:00, 70539.81it/s]"
                    ]
                },
                {
                    "name": "stdout",
                    "output_type": "stream",
                    "text": [
                        "37 human_vocab_len\n"
                    ]
                },
                {
                    "name": "stderr",
                    "output_type": "stream",
                    "text": [
                        "\n"
                    ]
                }
            ],
            "source": [
                "m = 10000\n",
                "dataset, human_vocab, machine_vocab, inv_machine_vocab = load_dataset(m)\n",
                "print(len(human_vocab.keys()), 'human_vocab_len')"
            ]
        },
        {
            "cell_type": "code",
            "execution_count": 67,
            "metadata": {},
            "outputs": [
                {
                    "name": "stdout",
                    "output_type": "stream",
                    "text": [
                        "[('12 sep 1981', '1981-09-12'), ('04 mar 1998', '1998-03-04'), ('6 july 1973', '1973-07-06'), ('thursday october 16 1975', '1975-10-16'), ('sunday august 1 2004', '2004-08-01'), ('thursday september 5 2024', '2024-09-05'), ('tuesday april 9 2024', '2024-04-09'), ('1/5/22', '2022-01-05'), ('28 august 2020', '2020-08-28'), ('sunday october 1 1995', '1995-10-01')]\n",
                        "  0\n",
                        ". 1\n",
                        "/ 2\n",
                        "0 3\n",
                        "1 4\n",
                        "2 5\n",
                        "3 6\n",
                        "4 7\n",
                        "5 8\n",
                        "6 9\n",
                        "7 10\n",
                        "________\n",
                        "- 0\n",
                        "0 1\n",
                        "1 2\n",
                        "2 3\n",
                        "3 4\n",
                        "4 5\n",
                        "5 6\n",
                        "6 7\n",
                        "7 8\n",
                        "8 9\n",
                        "9 10\n",
                        "________\n",
                        "0 -\n",
                        "1 0\n",
                        "2 1\n",
                        "3 2\n",
                        "4 3\n",
                        "5 4\n",
                        "6 5\n",
                        "7 6\n",
                        "8 7\n",
                        "9 8\n",
                        "10 9\n"
                    ]
                }
            ],
            "source": [
                "dataset[:10]\n",
                "print(dataset[:10])\n",
                "count=0\n",
                "# for k,v in human_vocab.items():\n",
                "# for k,v in machine_vocab.items():\n",
                "for k,v in    human_vocab.items():\n",
                "    count+=1\n",
                "    print(k,v)\n",
                "    if count   > 10:\n",
                "        break\n",
                "print('________')\n",
                "count=0\n",
                "for k,v in machine_vocab.items():\n",
                "    count+=1\n",
                "    print(k,v)\n",
                "    if count   > 10:\n",
                "        break\n",
                "print('________')\n",
                "count=0\n",
                "for k,v in    inv_machine_vocab.items():\n",
                "    count+=1\n",
                "    print(k,v)\n",
                "    if count   > 10:\n",
                "        break\n",
                "# machine_vocab[:10]\n",
                "# inv_machine_vocab[:10]"
            ]
        },
        {
            "cell_type": "markdown",
            "metadata": {},
            "source": [
                "You've loaded:\n",
                "- `dataset`: a list of tuples of (human readable date, machine readable date)\n",
                "- `human_vocab`: a python dictionary mapping all characters used in the human readable dates to an integer-valued index \n",
                "- `machine_vocab`: a python dictionary mapping all characters used in machine readable dates to an integer-valued index. These indices are not necessarily consistent with `human_vocab`. \n",
                "- `inv_machine_vocab`: the inverse dictionary of `machine_vocab`, mapping from indices back to characters. \n",
                "\n",
                "Let's preprocess the data and map the raw text data into the index values. We will also use Tx=30 (which we assume is the maximum length of the human readable date; if we get a longer input, we would have to truncate it) and Ty=10 (since \"YYYY-MM-DD\" is 10 characters long). "
            ]
        },
        {
            "cell_type": "code",
            "execution_count": 68,
            "metadata": {},
            "outputs": [
                {
                    "name": "stdout",
                    "output_type": "stream",
                    "text": [
                        "X.shape: (10000, 30)\n",
                        "Y.shape: (10000, 10)\n",
                        "Xoh.shape: (10000, 30, 37)\n",
                        "Yoh.shape: (10000, 10, 11)\n"
                    ]
                },
                {
                    "data": {
                        "text/plain": [
                            "'Xoh.shape: (10000, 30, 37)\\nYoh.shape: (10000, 10, 11)'"
                        ]
                    },
                    "execution_count": 68,
                    "metadata": {},
                    "output_type": "execute_result"
                }
            ],
            "source": [
                "Tx = 30\n",
                "Ty = 10\n",
                "X, Y, Xoh, Yoh = preprocess_data(dataset, human_vocab, machine_vocab, Tx, Ty)\n",
                "\n",
                "print(\"X.shape:\", X.shape)\n",
                "print(\"Y.shape:\", Y.shape)\n",
                "print(\"Xoh.shape:\", Xoh.shape)\n",
                "print(\"Yoh.shape:\", Yoh.shape)\n",
                "\"\"\"Xoh.shape: (10000, 30, 37)\n",
                "Yoh.shape: (10000, 10, 11)\"\"\"\n",
                "# onehot  中的 37 11  len_human_vocab machine_vocab"
            ]
        },
        {
            "cell_type": "markdown",
            "metadata": {},
            "source": [
                "You now have:\n",
                "- `X`: a processed version of the human readable dates in the training set, where each character is replaced by an index mapped to the character via `human_vocab`. Each date is further padded to $T_x$ values with a special character (< pad >). `X.shape = (m, Tx)`\n",
                "- `Y`: a processed version of the machine readable dates in the training set, where each character is replaced by the index it is mapped to in `machine_vocab`. You should have `Y.shape = (m, Ty)`. \n",
                "- `Xoh`: one-hot version of `X`, the \"1\" entry's index is mapped to the character thanks to `human_vocab`. `Xoh.shape = (m, Tx, len(human_vocab))`\n",
                "- `Yoh`: one-hot version of `Y`, the \"1\" entry's index is mapped to the character thanks to `machine_vocab`. `Yoh.shape = (m, Tx, len(machine_vocab))`. Here, `len(machine_vocab) = 11` since there are 11 characters ('-' as well as 0-9). \n"
            ]
        },
        {
            "cell_type": "markdown",
            "metadata": {},
            "source": [
                "Lets also look at some examples of preprocessed training examples. Feel free to play with `index` in the cell below to navigate the dataset and see how source/target dates are preprocessed. "
            ]
        },
        {
            "cell_type": "code",
            "execution_count": 69,
            "metadata": {},
            "outputs": [
                {
                    "name": "stdout",
                    "output_type": "stream",
                    "text": [
                        "Source date: 12 sep 1981\n",
                        "Target date: 1981-09-12\n",
                        "\n",
                        "Source after preprocessing (indices): [ 4  5  0 29 17 27  0  4 12 11  4 36 36 36 36 36 36 36 36 36 36 36 36 36\n",
                        " 36 36 36 36 36 36]\n",
                        "Target after preprocessing (indices): [ 2 10  9  2  0  1 10  0  2  3]\n",
                        "\n",
                        "Source after preprocessing (one-hot): [[0. 0. 0. ... 0. 0. 0.]\n",
                        " [0. 0. 0. ... 0. 0. 0.]\n",
                        " [1. 0. 0. ... 0. 0. 0.]\n",
                        " ...\n",
                        " [0. 0. 0. ... 0. 0. 1.]\n",
                        " [0. 0. 0. ... 0. 0. 1.]\n",
                        " [0. 0. 0. ... 0. 0. 1.]]\n",
                        "Target after preprocessing (one-hot): [[0. 0. 1. 0. 0. 0. 0. 0. 0. 0. 0.]\n",
                        " [0. 0. 0. 0. 0. 0. 0. 0. 0. 0. 1.]\n",
                        " [0. 0. 0. 0. 0. 0. 0. 0. 0. 1. 0.]\n",
                        " [0. 0. 1. 0. 0. 0. 0. 0. 0. 0. 0.]\n",
                        " [1. 0. 0. 0. 0. 0. 0. 0. 0. 0. 0.]\n",
                        " [0. 1. 0. 0. 0. 0. 0. 0. 0. 0. 0.]\n",
                        " [0. 0. 0. 0. 0. 0. 0. 0. 0. 0. 1.]\n",
                        " [1. 0. 0. 0. 0. 0. 0. 0. 0. 0. 0.]\n",
                        " [0. 0. 1. 0. 0. 0. 0. 0. 0. 0. 0.]\n",
                        " [0. 0. 0. 1. 0. 0. 0. 0. 0. 0. 0.]]\n"
                    ]
                }
            ],
            "source": [
                "index = 0\n",
                "print(\"Source date:\", dataset[index][0])\n",
                "print(\"Target date:\", dataset[index][1])\n",
                "print()\n",
                "print(\"Source after preprocessing (indices):\", X[index])\n",
                "print(\"Target after preprocessing (indices):\", Y[index])\n",
                "print()\n",
                "print(\"Source after preprocessing (one-hot):\", Xoh[index])\n",
                "print(\"Target after preprocessing (one-hot):\", Yoh[index])"
            ]
        },
        {
            "cell_type": "markdown",
            "metadata": {},
            "source": [
                "## 2 - Neural machine translation with attention\n",
                "\n",
                "If you had to translate a book's paragraph from French to English, you would not read the whole paragraph, then close the book and translate. Even during the translation process, you would read/re-read and focus on the parts of the French paragraph corresponding to the parts of the English you are writing down. \n",
                "\n",
                "The attention mechanism tells a Neural Machine Translation model where it should pay attention to at any step. \n",
                "\n",
                "\n",
                "### 2.1 - Attention mechanism\n",
                "\n",
                "In this part, you will implement the attention mechanism presented in the lecture videos. Here is a figure to remind you how the model works. The diagram on the left shows the attention model. The diagram on the right shows what one \"Attention\" step does to calculate the attention variables $\\alpha^{\\langle t, t' \\rangle}$, which are used to compute the context variable $context^{\\langle t \\rangle}$ for each timestep in the output ($t=1, \\ldots, T_y$). \n",
                "\n",
                "<table>\n",
                "<td> \n",
                "<img src=\"images/attn_model.png\" style=\"width:500;height:500px;\"> <br>\n",
                "</td> \n",
                "<td> \n",
                "<img src=\"images/attn_mechanism.png\" style=\"width:500;height:500px;\"> <br>\n",
                "</td> \n",
                "</table>\n",
                "<caption><center> **Figure 1**: Neural machine translation with attention</center></caption>\n"
            ]
        },
        {
            "cell_type": "markdown",
            "metadata": {},
            "source": [
                "\n",
                "Here are some properties of the model that you may notice: \n",
                "\n",
                "- There are two separate LSTMs in this model (see diagram on the left). Because the one at the bottom of the picture is a Bi-directional LSTM and comes *before* the attention mechanism, we will call it *pre-attention* Bi-LSTM. The LSTM at the top of the diagram comes *after* the attention mechanism, so we will call it the *post-attention* LSTM. The pre-attention Bi-LSTM goes through $T_x$ time steps; the post-attention LSTM goes through $T_y$ time steps. \n",
                "\n",
                "- The post-attention LSTM passes $s^{\\langle t \\rangle}, c^{\\langle t \\rangle}$ from one time step to the next. In the lecture videos, we were using only a basic RNN for the post-activation sequence model, so the state captured by the RNN output activations $s^{\\langle t\\rangle}$. But since we are using an LSTM here, the LSTM has both the output activation $s^{\\langle t\\rangle}$ and the hidden cell state $c^{\\langle t\\rangle}$. However, unlike previous text generation examples (such as Dinosaurus in week 1), in this model the post-activation LSTM at time $t$ does will not take the specific generated $y^{\\langle t-1 \\rangle}$ as input; it only takes $s^{\\langle t\\rangle}$ and $c^{\\langle t\\rangle}$ as input. We have designed the model this way, because (unlike language generation where adjacent characters are highly correlated) there isn't as strong a dependency between the previous character and the next character in a YYYY-MM-DD date. \n",
                "\n",
                "- We use $a^{\\langle t \\rangle} = [\\overrightarrow{a}^{\\langle t \\rangle}; \\overleftarrow{a}^{\\langle t \\rangle}]$ to represent the concatenation of the activations of both the forward-direction and backward-directions of the pre-attention Bi-LSTM. \n",
                "\n",
                "- The diagram on the right uses a `RepeatVector` node to copy $s^{\\langle t-1 \\rangle}$'s value $T_x$ times, and then `Concatenation` to concatenate $s^{\\langle t-1 \\rangle}$ and $a^{\\langle t \\rangle}$ to compute $e^{\\langle t, t'}$, which is then passed through a softmax to compute $\\alpha^{\\langle t, t' \\rangle}$. We'll explain how to use `RepeatVector` and `Concatenation` in Keras below. \n",
                "\n",
                "Lets implement this model. You will start by implementing two functions: `one_step_attention()` and `model()`.\n",
                "\n",
                "**1) `one_step_attention()`**: At step $t$, given all the hidden states of the Bi-LSTM ($[a^{<1>},a^{<2>}, ..., a^{<T_x>}]$) and the previous hidden state of the second LSTM ($s^{<t-1>}$), `one_step_attention()` will compute the attention weights ($[\\alpha^{<t,1>},\\alpha^{<t,2>}, ..., \\alpha^{<t,T_x>}]$) and output the context vector (see Figure  1 (right) for details):\n",
                "$$context^{<t>} = \\sum_{t' = 0}^{T_x} \\alpha^{<t,t'>}a^{<t'>}\\tag{1}$$ \n",
                "\n",
                "Note that we are denoting the attention in this notebook $context^{\\langle t \\rangle}$. In the lecture videos, the context was denoted $c^{\\langle t \\rangle}$, but here we are calling it $context^{\\langle t \\rangle}$ to avoid confusion with the (post-attention) LSTM's internal memory cell variable, which is sometimes also denoted $c^{\\langle t \\rangle}$. \n",
                "  \n",
                "**2) `model()`**: Implements the entire model. It first runs the input through a Bi-LSTM to get back $[a^{<1>},a^{<2>}, ..., a^{<T_x>}]$. Then, it calls `one_step_attention()` $T_y$ times (`for` loop). At each iteration of this loop, it gives the computed context vector $c^{<t>}$ to the second LSTM, and runs the output of the LSTM through a dense layer with softmax activation to generate a prediction $\\hat{y}^{<t>}$. \n",
                "\n",
                "\n",
                "\n",
                "**Exercise**: Implement `one_step_attention()`. The function `model()` will call the layers in `one_step_attention()` $T_y$ using a for-loop, and it is important that all $T_y$ copies have the same weights. I.e., it should not re-initiaiize the weights every time. In other words, all $T_y$ steps should have shared weights. Here's how you can implement layers with shareable weights in Keras:\n",
                "1. Define the layer objects (as global variables for examples).\n",
                "2. Call these objects when propagating the input.\n",
                "\n",
                "We have defined the layers you need as global variables. Please run the following cells to create them. Please check the Keras documentation to make sure you understand what these layers are: [RepeatVector()](https://keras.io/layers/core/#repeatvector), [Concatenate()](https://keras.io/layers/merge/#concatenate), [Dense()](https://keras.io/layers/core/#dense), [Activation()](https://keras.io/layers/core/#activation), [Dot()](https://keras.io/layers/merge/#dot)."
            ]
        },
        {
            "cell_type": "code",
            "execution_count": 70,
            "metadata": {},
            "outputs": [],
            "source": [
                "# Defined shared layers as global variables\n",
                "\n",
                "\"\"\"\"\"\"\n",
                "repeator = RepeatVector(Tx) # repeat  cnt = 30 \n",
                "concatenator = Concatenate(axis=-1)\n",
                "densor1 = Dense(10, activation = \"tanh\", name='Dense1')\n",
                "densor2 = Dense(1, activation = \"relu\", name='Dense2')\n",
                "activator = Activation(softmax, name='attention_weights') \n",
                "# We are using a custom softmax(axis = 1) loaded in this notebook\n",
                "dotor = Dot(axes = 1)"
            ]
        },
        {
            "cell_type": "markdown",
            "metadata": {},
            "source": [
                "Now you can use these layers to implement `one_step_attention()`. In order to propagate a Keras tensor object X through one of these layers, use `layer(X)` (or `layer([X,Y])` if it requires multiple inputs.), e.g. `densor(X)` will propagate X through the `Dense(1)` layer defined above."
            ]
        },
        {
            "cell_type": "code",
            "execution_count": 71,
            "metadata": {
                "collapsed": true
            },
            "outputs": [],
            "source": [
                "# GRADED FUNCTION: one_step_attention\n",
                "\n",
                "def one_step_attention(a, s_prev):\n",
                "    \"\"\"\n",
                "    Performs one step of attention: Outputs a context vector \n",
                "    computed as a dot product of the attention weights \"alphas\" \n",
                "    and the hidden states \"a\" of the Bi-LSTM.\n",
                "    \n",
                "    Arguments:\n",
                "    a -- hidden state output of the Bi-LSTM, numpy-array of shape (m, Tx, 2*n_a)\n",
                "    s_prev -- previous hidden state of the (post-attention) LSTM, numpy-array of shape (m, n_s)\n",
                "    \n",
                "    Returns:\n",
                "    context -- context vector, input of the next (post-attetion) LSTM cell\n",
                "    \"\"\"\n",
                "    \n",
                "    ### START CODE HERE ###\n",
                "    # Use repeator to repeat s_prev to be of shape (m, Tx(30), n_s(64)) so that you can concatenate it with all hidden states \"a\" (≈ 1 line)\n",
                "    \n",
                "    print(s_prev.shape , 's_prev_shape before respeator') # (None, 64) s_prev_shape before respeator\n",
                "    s_prev = repeator(s_prev) # input :s_prev 64; repeator Tx :30\n",
                "    # print(s_prev.shape , 's_prev_shape') #(None, 30, 64) s_prev_shape\n",
                "\n",
                "    # Use concatenator to concatenate a and s_prev on the last axis (≈ 1 line)\n",
                "    concat = concatenator([a, s_prev])  # a : 32\n",
                "    # Use densor1 to propagate concat through a small fully-connected neural network to compute the \"intermediate energies\" variable e. (≈1 lines)\n",
                "    e = densor1(concat)\n",
                "    # Use densor2 to propagate e through a small fully-connected neural network to compute the \"energies\" variable energies. (≈1 lines)\n",
                "    energies = densor2(e)\n",
                "    # Use \"activator\" on \"energies\" to compute the attention weights \"alphas\" (≈ 1 line)\n",
                "    alphas = activator(energies)\n",
                "    # Use dotor together with \"alphas\" and \"a\" to compute the context vector to be given to the next (post-attention) LSTM-cell (≈ 1 line)\n",
                "    context = dotor([alphas, a])\n",
                "    ### END CODE HERE ###\n",
                "    \n",
                "    return context"
            ]
        },
        {
            "cell_type": "markdown",
            "metadata": {},
            "source": [
                "You will be able to check the expected output of `one_step_attention()` after you've coded the `model()` function."
            ]
        },
        {
            "cell_type": "markdown",
            "metadata": {},
            "source": [
                "**Exercise**: Implement `model()` as explained in figure 2 and the text above. Again, we have defined global layers that will share weights to be used in `model()`."
            ]
        },
        {
            "cell_type": "code",
            "execution_count": 72,
            "metadata": {
                "collapsed": true
            },
            "outputs": [],
            "source": [
                "n_a = 32 # 32 why set?\n",
                "n_s = 64\n",
                "post_activation_LSTM_cell = LSTM(n_s, return_state = True)\n",
                "\n",
                "output_layer = Dense(len(machine_vocab), activation=softmax)"
            ]
        },
        {
            "cell_type": "markdown",
            "metadata": {},
            "source": [
                "Now you can use these layers $T_y$ times in a `for` loop to generate the outputs, and their parameters will not be reinitialized. You will have to carry out the following steps: \n",
                "\n",
                "1. Propagate the input into a [Bidirectional](https://keras.io/layers/wrappers/#bidirectional) [LSTM](https://keras.io/layers/recurrent/#lstm)\n",
                "2. Iterate for $t = 0, \\dots, T_y-1$: \n",
                "    1. Call `one_step_attention()` on $[\\alpha^{<t,1>},\\alpha^{<t,2>}, ..., \\alpha^{<t,T_x>}]$ and $s^{<t-1>}$ to get the context vector $context^{<t>}$.\n",
                "    2. Give $context^{<t>}$ to the post-attention LSTM cell. Remember pass in the previous hidden-state $s^{\\langle t-1\\rangle}$ and cell-states $c^{\\langle t-1\\rangle}$ of this LSTM using `initial_state= [previous hidden state, previous cell state]`. Get back the new hidden state $s^{<t>}$ and the new cell state $c^{<t>}$.\n",
                "    3. Apply a softmax layer to $s^{<t>}$, get the output. \n",
                "    4. Save the output by adding it to the list of outputs.\n",
                "\n",
                "3. Create your Keras model instance, it should have three inputs (\"inputs\", $s^{<0>}$ and $c^{<0>}$) and output the list of \"outputs\"."
            ]
        },
        {
            "cell_type": "code",
            "execution_count": 73,
            "metadata": {
                "collapsed": true
            },
            "outputs": [],
            "source": [
                "# GRADED FUNCTION: model\n",
                "\n",
                "def model(Tx, Ty, n_a, n_s, human_vocab_size, machine_vocab_size):\n",
                "    \"\"\"\n",
                "    Arguments:\n",
                "    Tx -- length of the input sequence\n",
                "    Ty -- length of the output sequence\n",
                "    n_a -- hidden state size of the Bi-LSTM\n",
                "    n_s -- hidden state size of the post-attention LSTM\n",
                "    human_vocab_size -- size of the python dictionary \"human_vocab\"\n",
                "    machine_vocab_size -- size of the python dictionary \"machine_vocab\"\n",
                "\n",
                "    Returns:\n",
                "    model -- Keras model instance\n",
                "    \"\"\"\n",
                "    \n",
                "    # Define the inputs of your model with a shape (Tx,)\n",
                "    # Define s0 and c0, initial hidden state for the decoder LSTM of shape (n_s,)\n",
                "    X = Input(shape=(Tx, human_vocab_size), name= 'X')\n",
                "    s0 = Input(shape=(n_s,), name='s0')\n",
                "    c0 = Input(shape=(n_s,), name='c0')\n",
                "    s = s0\n",
                "    c = c0\n",
                "    \n",
                "    # Initialize empty list of outputs\n",
                "    outputs = []\n",
                "    \n",
                "    ### START CODE HERE ###\n",
                "    \n",
                "    # Step 1: Define your pre-attention Bi-LSTM. Remember to use return_sequences=True. (≈ 1 line)\n",
                "    print(X.shape,'X.shape')\n",
                "    a = Bidirectional(LSTM(n_a, return_sequences=True, name='bidirectional_1'), merge_mode='concat')(X)\n",
                "    print(a.shape,\"bi_pre.shape\") #X:( None,30  37) ; n_a :32 ; lstm (None,32) =  bi_pre.shape  None,30, 64(becs 32*2 bi_pre )\n",
                "    # 疑问: X的维度37 为什么不会有影响\n",
                "    \n",
                "    # Step 2: Iterate for Ty steps\n",
                "    for t in range(Ty):\n",
                "    \n",
                "        # Step 2.A: Perform one step of the attention mechanism to get back the context vector at step t (≈ 1 line)\n",
                "        context = one_step_attention(a, s)\n",
                "        \n",
                "        # Step 2.B: Apply the post-attention LSTM cell to the \"context\" vector.\n",
                "        # Don't forget to pass: initial_state = [hidden state, cell state] (≈ 1 line)\n",
                "        s, _, c = post_activation_LSTM_cell(context, initial_state = [s, c])\n",
                "        \n",
                "        # Step 2.C: Apply Dense layer to the hidden state output of the post-attention LSTM (≈ 1 line)\n",
                "        out = output_layer(s)\n",
                "        \n",
                "        # Step 2.D: Append \"out\" to the \"outputs\" list (≈ 1 line)\n",
                "        outputs.append(out)\n",
                "    \n",
                "    # Step 3: Create model instance taking three inputs and returning the list of outputs. (≈ 1 line)\n",
                "    model = Model(inputs=(X, s0, c0), outputs=outputs)\n",
                "    \n",
                "    ### END CODE HERE ###\n",
                "    \n",
                "    return model"
            ]
        },
        {
            "cell_type": "code",
            "execution_count": null,
            "metadata": {},
            "outputs": [],
            "source": [
                "# Defined shared layers as global variables\n",
                "\n",
                "\"\"\"\"\"\"\n",
                "repeator = RepeatVector(Tx) # repeat  cnt = 30 \n",
                "concatenator = Concatenate(axis=-1)\n",
                "densor1 = Dense(10, activation = \"tanh\", name='Dense1')\n",
                "densor2 = Dense(1, activation = \"relu\", name='Dense2')\n",
                "activator = Activation(softmax, name='attention_weights') \n",
                "# We are using a custom softmax(axis = 1) loaded in this notebook\n",
                "dotor = Dot(axes = 1)"
            ]
        },
        {
            "cell_type": "code",
            "execution_count": null,
            "metadata": {},
            "outputs": [],
            "source": [
                "# Defined shared layers as global variables\n",
                "\n",
                "\"\"\"\"\"\"\n",
                "repeator = RepeatVector(Tx) # repeat  cnt = 30 \n",
                "concatenator = Concatenate(axis=-1)\n",
                "densor1 = Dense(10, activation = \"tanh\", name='Dense1')\n",
                "densor2 = Dense(1, activation = \"relu\", name='Dense2')\n",
                "activator = Activation(softmax, name='attention_weights') \n",
                "# We are using a custom softmax(axis = 1) loaded in this notebook\n",
                "dotor = Dot(axes = 1)"
            ]
        },
        {
            "cell_type": "code",
            "execution_count": null,
            "metadata": {},
            "outputs": [],
            "source": [
                "# Defined shared layers as global variables\n",
                "\n",
                "\"\"\"\"\"\"\n",
                "repeator = RepeatVector(Tx) # repeat  cnt = 30 \n",
                "concatenator = Concatenate(axis=-1)\n",
                "densor1 = Dense(10, activation = \"tanh\", name='Dense1')\n",
                "densor2 = Dense(1, activation = \"relu\", name='Dense2')\n",
                "activator = Activation(softmax, name='attention_weights') \n",
                "# We are using a custom softmax(axis = 1) loaded in this notebook\n",
                "dotor = Dot(axes = 1)"
            ]
        },
        {
            "cell_type": "code",
            "execution_count": null,
            "metadata": {},
            "outputs": [],
            "source": [
                "# Defined shared layers as global variables\n",
                "\n",
                "\"\"\"\"\"\"\n",
                "repeator = RepeatVector(Tx) # repeat  cnt = 30 \n",
                "concatenator = Concatenate(axis=-1)\n",
                "densor1 = Dense(10, activation = \"tanh\", name='Dense1')\n",
                "densor2 = Dense(1, activation = \"relu\", name='Dense2')\n",
                "activator = Activation(softmax, name='attention_weights') \n",
                "# We are using a custom softmax(axis = 1) loaded in this notebook\n",
                "dotor = Dot(axes = 1)"
            ]
        },
        {
            "cell_type": "code",
            "execution_count": null,
            "metadata": {},
            "outputs": [],
            "source": [
                "# Defined shared layers as global variables\n",
                "\n",
                "\"\"\"\"\"\"\n",
                "repeator = RepeatVector(Tx) # repeat  cnt = 30 \n",
                "concatenator = Concatenate(axis=-1)\n",
                "densor1 = Dense(10, activation = \"tanh\", name='Dense1')\n",
                "densor2 = Dense(1, activation = \"relu\", name='Dense2')\n",
                "activator = Activation(softmax, name='attention_weights') \n",
                "# We are using a custom softmax(axis = 1) loaded in this notebook\n",
                "dotor = Dot(axes = 1)"
            ]
        },
        {
            "cell_type": "code",
            "execution_count": null,
            "metadata": {},
            "outputs": [],
            "source": [
                "# Defined shared layers as global variables\n",
                "\n",
                "\"\"\"\"\"\"\n",
                "repeator = RepeatVector(Tx) # repeat  cnt = 30 \n",
                "concatenator = Concatenate(axis=-1)\n",
                "densor1 = Dense(10, activation = \"tanh\", name='Dense1')\n",
                "densor2 = Dense(1, activation = \"relu\", name='Dense2')\n",
                "activator = Activation(softmax, name='attention_weights') \n",
                "# We are using a custom softmax(axis = 1) loaded in this notebook\n",
                "dotor = Dot(axes = 1)"
            ]
        },
        {
            "cell_type": "markdown",
            "metadata": {},
            "source": [
                "Run the following cell to create your model."
            ]
        },
        {
            "cell_type": "code",
            "execution_count": 74,
            "metadata": {},
            "outputs": [
                {
                    "name": "stdout",
                    "output_type": "stream",
                    "text": [
                        "(None, 30, 37) X.shape\n",
                        "(None, 30, 64) bi_pre.shape\n",
                        "(None, 64) s_prev_shape before respeator\n",
                        "(None, 64) s_prev_shape before respeator\n",
                        "(None, 64) s_prev_shape before respeator\n",
                        "(None, 64) s_prev_shape before respeator\n",
                        "(None, 64) s_prev_shape before respeator\n",
                        "(None, 64) s_prev_shape before respeator\n",
                        "(None, 64) s_prev_shape before respeator\n",
                        "(None, 64) s_prev_shape before respeator\n",
                        "(None, 64) s_prev_shape before respeator\n",
                        "(None, 64) s_prev_shape before respeator\n"
                    ]
                }
            ],
            "source": [
                "model = model(Tx, Ty, n_a, n_s, len(human_vocab), len(machine_vocab))"
            ]
        },
        {
            "cell_type": "markdown",
            "metadata": {},
            "source": [
                "Let's get a summary of the model to check if it matches the expected output."
            ]
        },
        {
            "cell_type": "code",
            "execution_count": 75,
            "metadata": {},
            "outputs": [
                {
                    "data": {
                        "text/html": [
                            "<pre style=\"white-space:pre;overflow-x:auto;line-height:normal;font-family:Menlo,'DejaVu Sans Mono',consolas,'Courier New',monospace\"><span style=\"font-weight: bold\">Model: \"functional_4\"</span>\n",
                            "</pre>\n"
                        ],
                        "text/plain": [
                            "\u001b[1mModel: \"functional_4\"\u001b[0m\n"
                        ]
                    },
                    "metadata": {},
                    "output_type": "display_data"
                },
                {
                    "data": {
                        "text/html": [
                            "<pre style=\"white-space:pre;overflow-x:auto;line-height:normal;font-family:Menlo,'DejaVu Sans Mono',consolas,'Courier New',monospace\">┏━━━━━━━━━━━━━━━━━━━━━┳━━━━━━━━━━━━━━━━━━━┳━━━━━━━━━━━━┳━━━━━━━━━━━━━━━━━━━┓\n",
                            "┃<span style=\"font-weight: bold\"> Layer (type)        </span>┃<span style=\"font-weight: bold\"> Output Shape      </span>┃<span style=\"font-weight: bold\">    Param # </span>┃<span style=\"font-weight: bold\"> Connected to      </span>┃\n",
                            "┡━━━━━━━━━━━━━━━━━━━━━╇━━━━━━━━━━━━━━━━━━━╇━━━━━━━━━━━━╇━━━━━━━━━━━━━━━━━━━┩\n",
                            "│ X (<span style=\"color: #0087ff; text-decoration-color: #0087ff\">InputLayer</span>)      │ (<span style=\"color: #00d7ff; text-decoration-color: #00d7ff\">None</span>, <span style=\"color: #00af00; text-decoration-color: #00af00\">30</span>, <span style=\"color: #00af00; text-decoration-color: #00af00\">37</span>)    │          <span style=\"color: #00af00; text-decoration-color: #00af00\">0</span> │ -                 │\n",
                            "├─────────────────────┼───────────────────┼────────────┼───────────────────┤\n",
                            "│ s0 (<span style=\"color: #0087ff; text-decoration-color: #0087ff\">InputLayer</span>)     │ (<span style=\"color: #00d7ff; text-decoration-color: #00d7ff\">None</span>, <span style=\"color: #00af00; text-decoration-color: #00af00\">64</span>)        │          <span style=\"color: #00af00; text-decoration-color: #00af00\">0</span> │ -                 │\n",
                            "├─────────────────────┼───────────────────┼────────────┼───────────────────┤\n",
                            "│ bidirectional_4     │ (<span style=\"color: #00d7ff; text-decoration-color: #00d7ff\">None</span>, <span style=\"color: #00af00; text-decoration-color: #00af00\">30</span>, <span style=\"color: #00af00; text-decoration-color: #00af00\">64</span>)    │     <span style=\"color: #00af00; text-decoration-color: #00af00\">17,920</span> │ X[<span style=\"color: #00af00; text-decoration-color: #00af00\">0</span>][<span style=\"color: #00af00; text-decoration-color: #00af00\">0</span>]           │\n",
                            "│ (<span style=\"color: #0087ff; text-decoration-color: #0087ff\">Bidirectional</span>)     │                   │            │                   │\n",
                            "├─────────────────────┼───────────────────┼────────────┼───────────────────┤\n",
                            "│ repeat_vector_4     │ (<span style=\"color: #00d7ff; text-decoration-color: #00d7ff\">None</span>, <span style=\"color: #00af00; text-decoration-color: #00af00\">30</span>, <span style=\"color: #00af00; text-decoration-color: #00af00\">64</span>)    │          <span style=\"color: #00af00; text-decoration-color: #00af00\">0</span> │ s0[<span style=\"color: #00af00; text-decoration-color: #00af00\">0</span>][<span style=\"color: #00af00; text-decoration-color: #00af00\">0</span>],         │\n",
                            "│ (<span style=\"color: #0087ff; text-decoration-color: #0087ff\">RepeatVector</span>)      │                   │            │ lstm_4[<span style=\"color: #00af00; text-decoration-color: #00af00\">0</span>][<span style=\"color: #00af00; text-decoration-color: #00af00\">0</span>],     │\n",
                            "│                     │                   │            │ lstm_4[<span style=\"color: #00af00; text-decoration-color: #00af00\">1</span>][<span style=\"color: #00af00; text-decoration-color: #00af00\">0</span>],     │\n",
                            "│                     │                   │            │ lstm_4[<span style=\"color: #00af00; text-decoration-color: #00af00\">2</span>][<span style=\"color: #00af00; text-decoration-color: #00af00\">0</span>],     │\n",
                            "│                     │                   │            │ lstm_4[<span style=\"color: #00af00; text-decoration-color: #00af00\">3</span>][<span style=\"color: #00af00; text-decoration-color: #00af00\">0</span>],     │\n",
                            "│                     │                   │            │ lstm_4[<span style=\"color: #00af00; text-decoration-color: #00af00\">4</span>][<span style=\"color: #00af00; text-decoration-color: #00af00\">0</span>],     │\n",
                            "│                     │                   │            │ lstm_4[<span style=\"color: #00af00; text-decoration-color: #00af00\">5</span>][<span style=\"color: #00af00; text-decoration-color: #00af00\">0</span>],     │\n",
                            "│                     │                   │            │ lstm_4[<span style=\"color: #00af00; text-decoration-color: #00af00\">6</span>][<span style=\"color: #00af00; text-decoration-color: #00af00\">0</span>],     │\n",
                            "│                     │                   │            │ lstm_4[<span style=\"color: #00af00; text-decoration-color: #00af00\">7</span>][<span style=\"color: #00af00; text-decoration-color: #00af00\">0</span>],     │\n",
                            "│                     │                   │            │ lstm_4[<span style=\"color: #00af00; text-decoration-color: #00af00\">8</span>][<span style=\"color: #00af00; text-decoration-color: #00af00\">0</span>]      │\n",
                            "├─────────────────────┼───────────────────┼────────────┼───────────────────┤\n",
                            "│ concatenate_4       │ (<span style=\"color: #00d7ff; text-decoration-color: #00d7ff\">None</span>, <span style=\"color: #00af00; text-decoration-color: #00af00\">30</span>, <span style=\"color: #00af00; text-decoration-color: #00af00\">128</span>)   │          <span style=\"color: #00af00; text-decoration-color: #00af00\">0</span> │ bidirectional_4[<span style=\"color: #00af00; text-decoration-color: #00af00\">…</span> │\n",
                            "│ (<span style=\"color: #0087ff; text-decoration-color: #0087ff\">Concatenate</span>)       │                   │            │ repeat_vector_4[<span style=\"color: #00af00; text-decoration-color: #00af00\">…</span> │\n",
                            "│                     │                   │            │ bidirectional_4[<span style=\"color: #00af00; text-decoration-color: #00af00\">…</span> │\n",
                            "│                     │                   │            │ repeat_vector_4[<span style=\"color: #00af00; text-decoration-color: #00af00\">…</span> │\n",
                            "│                     │                   │            │ bidirectional_4[<span style=\"color: #00af00; text-decoration-color: #00af00\">…</span> │\n",
                            "│                     │                   │            │ repeat_vector_4[<span style=\"color: #00af00; text-decoration-color: #00af00\">…</span> │\n",
                            "│                     │                   │            │ bidirectional_4[<span style=\"color: #00af00; text-decoration-color: #00af00\">…</span> │\n",
                            "│                     │                   │            │ repeat_vector_4[<span style=\"color: #00af00; text-decoration-color: #00af00\">…</span> │\n",
                            "│                     │                   │            │ bidirectional_4[<span style=\"color: #00af00; text-decoration-color: #00af00\">…</span> │\n",
                            "│                     │                   │            │ repeat_vector_4[<span style=\"color: #00af00; text-decoration-color: #00af00\">…</span> │\n",
                            "│                     │                   │            │ bidirectional_4[<span style=\"color: #00af00; text-decoration-color: #00af00\">…</span> │\n",
                            "│                     │                   │            │ repeat_vector_4[<span style=\"color: #00af00; text-decoration-color: #00af00\">…</span> │\n",
                            "│                     │                   │            │ bidirectional_4[<span style=\"color: #00af00; text-decoration-color: #00af00\">…</span> │\n",
                            "│                     │                   │            │ repeat_vector_4[<span style=\"color: #00af00; text-decoration-color: #00af00\">…</span> │\n",
                            "│                     │                   │            │ bidirectional_4[<span style=\"color: #00af00; text-decoration-color: #00af00\">…</span> │\n",
                            "│                     │                   │            │ repeat_vector_4[<span style=\"color: #00af00; text-decoration-color: #00af00\">…</span> │\n",
                            "│                     │                   │            │ bidirectional_4[<span style=\"color: #00af00; text-decoration-color: #00af00\">…</span> │\n",
                            "│                     │                   │            │ repeat_vector_4[<span style=\"color: #00af00; text-decoration-color: #00af00\">…</span> │\n",
                            "│                     │                   │            │ bidirectional_4[<span style=\"color: #00af00; text-decoration-color: #00af00\">…</span> │\n",
                            "│                     │                   │            │ repeat_vector_4[<span style=\"color: #00af00; text-decoration-color: #00af00\">…</span> │\n",
                            "├─────────────────────┼───────────────────┼────────────┼───────────────────┤\n",
                            "│ Dense1 (<span style=\"color: #0087ff; text-decoration-color: #0087ff\">Dense</span>)      │ (<span style=\"color: #00d7ff; text-decoration-color: #00d7ff\">None</span>, <span style=\"color: #00af00; text-decoration-color: #00af00\">30</span>, <span style=\"color: #00af00; text-decoration-color: #00af00\">10</span>)    │      <span style=\"color: #00af00; text-decoration-color: #00af00\">1,290</span> │ concatenate_4[<span style=\"color: #00af00; text-decoration-color: #00af00\">0</span>]… │\n",
                            "│                     │                   │            │ concatenate_4[<span style=\"color: #00af00; text-decoration-color: #00af00\">1</span>]… │\n",
                            "│                     │                   │            │ concatenate_4[<span style=\"color: #00af00; text-decoration-color: #00af00\">2</span>]… │\n",
                            "│                     │                   │            │ concatenate_4[<span style=\"color: #00af00; text-decoration-color: #00af00\">3</span>]… │\n",
                            "│                     │                   │            │ concatenate_4[<span style=\"color: #00af00; text-decoration-color: #00af00\">4</span>]… │\n",
                            "│                     │                   │            │ concatenate_4[<span style=\"color: #00af00; text-decoration-color: #00af00\">5</span>]… │\n",
                            "│                     │                   │            │ concatenate_4[<span style=\"color: #00af00; text-decoration-color: #00af00\">6</span>]… │\n",
                            "│                     │                   │            │ concatenate_4[<span style=\"color: #00af00; text-decoration-color: #00af00\">7</span>]… │\n",
                            "│                     │                   │            │ concatenate_4[<span style=\"color: #00af00; text-decoration-color: #00af00\">8</span>]… │\n",
                            "│                     │                   │            │ concatenate_4[<span style=\"color: #00af00; text-decoration-color: #00af00\">9</span>]… │\n",
                            "├─────────────────────┼───────────────────┼────────────┼───────────────────┤\n",
                            "│ Dense2 (<span style=\"color: #0087ff; text-decoration-color: #0087ff\">Dense</span>)      │ (<span style=\"color: #00d7ff; text-decoration-color: #00d7ff\">None</span>, <span style=\"color: #00af00; text-decoration-color: #00af00\">30</span>, <span style=\"color: #00af00; text-decoration-color: #00af00\">1</span>)     │         <span style=\"color: #00af00; text-decoration-color: #00af00\">11</span> │ Dense1[<span style=\"color: #00af00; text-decoration-color: #00af00\">0</span>][<span style=\"color: #00af00; text-decoration-color: #00af00\">0</span>],     │\n",
                            "│                     │                   │            │ Dense1[<span style=\"color: #00af00; text-decoration-color: #00af00\">1</span>][<span style=\"color: #00af00; text-decoration-color: #00af00\">0</span>],     │\n",
                            "│                     │                   │            │ Dense1[<span style=\"color: #00af00; text-decoration-color: #00af00\">2</span>][<span style=\"color: #00af00; text-decoration-color: #00af00\">0</span>],     │\n",
                            "│                     │                   │            │ Dense1[<span style=\"color: #00af00; text-decoration-color: #00af00\">3</span>][<span style=\"color: #00af00; text-decoration-color: #00af00\">0</span>],     │\n",
                            "│                     │                   │            │ Dense1[<span style=\"color: #00af00; text-decoration-color: #00af00\">4</span>][<span style=\"color: #00af00; text-decoration-color: #00af00\">0</span>],     │\n",
                            "│                     │                   │            │ Dense1[<span style=\"color: #00af00; text-decoration-color: #00af00\">5</span>][<span style=\"color: #00af00; text-decoration-color: #00af00\">0</span>],     │\n",
                            "│                     │                   │            │ Dense1[<span style=\"color: #00af00; text-decoration-color: #00af00\">6</span>][<span style=\"color: #00af00; text-decoration-color: #00af00\">0</span>],     │\n",
                            "│                     │                   │            │ Dense1[<span style=\"color: #00af00; text-decoration-color: #00af00\">7</span>][<span style=\"color: #00af00; text-decoration-color: #00af00\">0</span>],     │\n",
                            "│                     │                   │            │ Dense1[<span style=\"color: #00af00; text-decoration-color: #00af00\">8</span>][<span style=\"color: #00af00; text-decoration-color: #00af00\">0</span>],     │\n",
                            "│                     │                   │            │ Dense1[<span style=\"color: #00af00; text-decoration-color: #00af00\">9</span>][<span style=\"color: #00af00; text-decoration-color: #00af00\">0</span>]      │\n",
                            "├─────────────────────┼───────────────────┼────────────┼───────────────────┤\n",
                            "│ attention_weights   │ (<span style=\"color: #00d7ff; text-decoration-color: #00d7ff\">None</span>, <span style=\"color: #00af00; text-decoration-color: #00af00\">30</span>, <span style=\"color: #00af00; text-decoration-color: #00af00\">1</span>)     │          <span style=\"color: #00af00; text-decoration-color: #00af00\">0</span> │ Dense2[<span style=\"color: #00af00; text-decoration-color: #00af00\">0</span>][<span style=\"color: #00af00; text-decoration-color: #00af00\">0</span>],     │\n",
                            "│ (<span style=\"color: #0087ff; text-decoration-color: #0087ff\">Activation</span>)        │                   │            │ Dense2[<span style=\"color: #00af00; text-decoration-color: #00af00\">1</span>][<span style=\"color: #00af00; text-decoration-color: #00af00\">0</span>],     │\n",
                            "│                     │                   │            │ Dense2[<span style=\"color: #00af00; text-decoration-color: #00af00\">2</span>][<span style=\"color: #00af00; text-decoration-color: #00af00\">0</span>],     │\n",
                            "│                     │                   │            │ Dense2[<span style=\"color: #00af00; text-decoration-color: #00af00\">3</span>][<span style=\"color: #00af00; text-decoration-color: #00af00\">0</span>],     │\n",
                            "│                     │                   │            │ Dense2[<span style=\"color: #00af00; text-decoration-color: #00af00\">4</span>][<span style=\"color: #00af00; text-decoration-color: #00af00\">0</span>],     │\n",
                            "│                     │                   │            │ Dense2[<span style=\"color: #00af00; text-decoration-color: #00af00\">5</span>][<span style=\"color: #00af00; text-decoration-color: #00af00\">0</span>],     │\n",
                            "│                     │                   │            │ Dense2[<span style=\"color: #00af00; text-decoration-color: #00af00\">6</span>][<span style=\"color: #00af00; text-decoration-color: #00af00\">0</span>],     │\n",
                            "│                     │                   │            │ Dense2[<span style=\"color: #00af00; text-decoration-color: #00af00\">7</span>][<span style=\"color: #00af00; text-decoration-color: #00af00\">0</span>],     │\n",
                            "│                     │                   │            │ Dense2[<span style=\"color: #00af00; text-decoration-color: #00af00\">8</span>][<span style=\"color: #00af00; text-decoration-color: #00af00\">0</span>],     │\n",
                            "│                     │                   │            │ Dense2[<span style=\"color: #00af00; text-decoration-color: #00af00\">9</span>][<span style=\"color: #00af00; text-decoration-color: #00af00\">0</span>]      │\n",
                            "├─────────────────────┼───────────────────┼────────────┼───────────────────┤\n",
                            "│ dot_4 (<span style=\"color: #0087ff; text-decoration-color: #0087ff\">Dot</span>)         │ (<span style=\"color: #00d7ff; text-decoration-color: #00d7ff\">None</span>, <span style=\"color: #00af00; text-decoration-color: #00af00\">1</span>, <span style=\"color: #00af00; text-decoration-color: #00af00\">64</span>)     │          <span style=\"color: #00af00; text-decoration-color: #00af00\">0</span> │ attention_weight… │\n",
                            "│                     │                   │            │ bidirectional_4[<span style=\"color: #00af00; text-decoration-color: #00af00\">…</span> │\n",
                            "│                     │                   │            │ attention_weight… │\n",
                            "│                     │                   │            │ bidirectional_4[<span style=\"color: #00af00; text-decoration-color: #00af00\">…</span> │\n",
                            "│                     │                   │            │ attention_weight… │\n",
                            "│                     │                   │            │ bidirectional_4[<span style=\"color: #00af00; text-decoration-color: #00af00\">…</span> │\n",
                            "│                     │                   │            │ attention_weight… │\n",
                            "│                     │                   │            │ bidirectional_4[<span style=\"color: #00af00; text-decoration-color: #00af00\">…</span> │\n",
                            "│                     │                   │            │ attention_weight… │\n",
                            "│                     │                   │            │ bidirectional_4[<span style=\"color: #00af00; text-decoration-color: #00af00\">…</span> │\n",
                            "│                     │                   │            │ attention_weight… │\n",
                            "│                     │                   │            │ bidirectional_4[<span style=\"color: #00af00; text-decoration-color: #00af00\">…</span> │\n",
                            "│                     │                   │            │ attention_weight… │\n",
                            "│                     │                   │            │ bidirectional_4[<span style=\"color: #00af00; text-decoration-color: #00af00\">…</span> │\n",
                            "│                     │                   │            │ attention_weight… │\n",
                            "│                     │                   │            │ bidirectional_4[<span style=\"color: #00af00; text-decoration-color: #00af00\">…</span> │\n",
                            "│                     │                   │            │ attention_weight… │\n",
                            "│                     │                   │            │ bidirectional_4[<span style=\"color: #00af00; text-decoration-color: #00af00\">…</span> │\n",
                            "│                     │                   │            │ attention_weight… │\n",
                            "│                     │                   │            │ bidirectional_4[<span style=\"color: #00af00; text-decoration-color: #00af00\">…</span> │\n",
                            "├─────────────────────┼───────────────────┼────────────┼───────────────────┤\n",
                            "│ c0 (<span style=\"color: #0087ff; text-decoration-color: #0087ff\">InputLayer</span>)     │ (<span style=\"color: #00d7ff; text-decoration-color: #00d7ff\">None</span>, <span style=\"color: #00af00; text-decoration-color: #00af00\">64</span>)        │          <span style=\"color: #00af00; text-decoration-color: #00af00\">0</span> │ -                 │\n",
                            "├─────────────────────┼───────────────────┼────────────┼───────────────────┤\n",
                            "│ lstm_4 (<span style=\"color: #0087ff; text-decoration-color: #0087ff\">LSTM</span>)       │ [(<span style=\"color: #00d7ff; text-decoration-color: #00d7ff\">None</span>, <span style=\"color: #00af00; text-decoration-color: #00af00\">64</span>),      │     <span style=\"color: #00af00; text-decoration-color: #00af00\">33,024</span> │ dot_4[<span style=\"color: #00af00; text-decoration-color: #00af00\">0</span>][<span style=\"color: #00af00; text-decoration-color: #00af00\">0</span>],      │\n",
                            "│                     │ (<span style=\"color: #00d7ff; text-decoration-color: #00d7ff\">None</span>, <span style=\"color: #00af00; text-decoration-color: #00af00\">64</span>),       │            │ s0[<span style=\"color: #00af00; text-decoration-color: #00af00\">0</span>][<span style=\"color: #00af00; text-decoration-color: #00af00\">0</span>],         │\n",
                            "│                     │ (<span style=\"color: #00d7ff; text-decoration-color: #00d7ff\">None</span>, <span style=\"color: #00af00; text-decoration-color: #00af00\">64</span>)]       │            │ c0[<span style=\"color: #00af00; text-decoration-color: #00af00\">0</span>][<span style=\"color: #00af00; text-decoration-color: #00af00\">0</span>],         │\n",
                            "│                     │                   │            │ dot_4[<span style=\"color: #00af00; text-decoration-color: #00af00\">1</span>][<span style=\"color: #00af00; text-decoration-color: #00af00\">0</span>],      │\n",
                            "│                     │                   │            │ lstm_4[<span style=\"color: #00af00; text-decoration-color: #00af00\">0</span>][<span style=\"color: #00af00; text-decoration-color: #00af00\">0</span>],     │\n",
                            "│                     │                   │            │ lstm_4[<span style=\"color: #00af00; text-decoration-color: #00af00\">0</span>][<span style=\"color: #00af00; text-decoration-color: #00af00\">2</span>],     │\n",
                            "│                     │                   │            │ dot_4[<span style=\"color: #00af00; text-decoration-color: #00af00\">2</span>][<span style=\"color: #00af00; text-decoration-color: #00af00\">0</span>],      │\n",
                            "│                     │                   │            │ lstm_4[<span style=\"color: #00af00; text-decoration-color: #00af00\">1</span>][<span style=\"color: #00af00; text-decoration-color: #00af00\">0</span>],     │\n",
                            "│                     │                   │            │ lstm_4[<span style=\"color: #00af00; text-decoration-color: #00af00\">1</span>][<span style=\"color: #00af00; text-decoration-color: #00af00\">2</span>],     │\n",
                            "│                     │                   │            │ dot_4[<span style=\"color: #00af00; text-decoration-color: #00af00\">3</span>][<span style=\"color: #00af00; text-decoration-color: #00af00\">0</span>],      │\n",
                            "│                     │                   │            │ lstm_4[<span style=\"color: #00af00; text-decoration-color: #00af00\">2</span>][<span style=\"color: #00af00; text-decoration-color: #00af00\">0</span>],     │\n",
                            "│                     │                   │            │ lstm_4[<span style=\"color: #00af00; text-decoration-color: #00af00\">2</span>][<span style=\"color: #00af00; text-decoration-color: #00af00\">2</span>],     │\n",
                            "│                     │                   │            │ dot_4[<span style=\"color: #00af00; text-decoration-color: #00af00\">4</span>][<span style=\"color: #00af00; text-decoration-color: #00af00\">0</span>],      │\n",
                            "│                     │                   │            │ lstm_4[<span style=\"color: #00af00; text-decoration-color: #00af00\">3</span>][<span style=\"color: #00af00; text-decoration-color: #00af00\">0</span>],     │\n",
                            "│                     │                   │            │ lstm_4[<span style=\"color: #00af00; text-decoration-color: #00af00\">3</span>][<span style=\"color: #00af00; text-decoration-color: #00af00\">2</span>],     │\n",
                            "│                     │                   │            │ dot_4[<span style=\"color: #00af00; text-decoration-color: #00af00\">5</span>][<span style=\"color: #00af00; text-decoration-color: #00af00\">0</span>],      │\n",
                            "│                     │                   │            │ lstm_4[<span style=\"color: #00af00; text-decoration-color: #00af00\">4</span>][<span style=\"color: #00af00; text-decoration-color: #00af00\">0</span>],     │\n",
                            "│                     │                   │            │ lstm_4[<span style=\"color: #00af00; text-decoration-color: #00af00\">4</span>][<span style=\"color: #00af00; text-decoration-color: #00af00\">2</span>],     │\n",
                            "│                     │                   │            │ dot_4[<span style=\"color: #00af00; text-decoration-color: #00af00\">6</span>][<span style=\"color: #00af00; text-decoration-color: #00af00\">0</span>],      │\n",
                            "│                     │                   │            │ lstm_4[<span style=\"color: #00af00; text-decoration-color: #00af00\">5</span>][<span style=\"color: #00af00; text-decoration-color: #00af00\">0</span>],     │\n",
                            "│                     │                   │            │ lstm_4[<span style=\"color: #00af00; text-decoration-color: #00af00\">5</span>][<span style=\"color: #00af00; text-decoration-color: #00af00\">2</span>],     │\n",
                            "│                     │                   │            │ dot_4[<span style=\"color: #00af00; text-decoration-color: #00af00\">7</span>][<span style=\"color: #00af00; text-decoration-color: #00af00\">0</span>],      │\n",
                            "│                     │                   │            │ lstm_4[<span style=\"color: #00af00; text-decoration-color: #00af00\">6</span>][<span style=\"color: #00af00; text-decoration-color: #00af00\">0</span>],     │\n",
                            "│                     │                   │            │ lstm_4[<span style=\"color: #00af00; text-decoration-color: #00af00\">6</span>][<span style=\"color: #00af00; text-decoration-color: #00af00\">2</span>],     │\n",
                            "│                     │                   │            │ dot_4[<span style=\"color: #00af00; text-decoration-color: #00af00\">8</span>][<span style=\"color: #00af00; text-decoration-color: #00af00\">0</span>],      │\n",
                            "│                     │                   │            │ lstm_4[<span style=\"color: #00af00; text-decoration-color: #00af00\">7</span>][<span style=\"color: #00af00; text-decoration-color: #00af00\">0</span>],     │\n",
                            "│                     │                   │            │ lstm_4[<span style=\"color: #00af00; text-decoration-color: #00af00\">7</span>][<span style=\"color: #00af00; text-decoration-color: #00af00\">2</span>],     │\n",
                            "│                     │                   │            │ dot_4[<span style=\"color: #00af00; text-decoration-color: #00af00\">9</span>][<span style=\"color: #00af00; text-decoration-color: #00af00\">0</span>],      │\n",
                            "│                     │                   │            │ lstm_4[<span style=\"color: #00af00; text-decoration-color: #00af00\">8</span>][<span style=\"color: #00af00; text-decoration-color: #00af00\">0</span>],     │\n",
                            "│                     │                   │            │ lstm_4[<span style=\"color: #00af00; text-decoration-color: #00af00\">8</span>][<span style=\"color: #00af00; text-decoration-color: #00af00\">2</span>]      │\n",
                            "├─────────────────────┼───────────────────┼────────────┼───────────────────┤\n",
                            "│ dense_4 (<span style=\"color: #0087ff; text-decoration-color: #0087ff\">Dense</span>)     │ (<span style=\"color: #00d7ff; text-decoration-color: #00d7ff\">None</span>, <span style=\"color: #00af00; text-decoration-color: #00af00\">11</span>)        │        <span style=\"color: #00af00; text-decoration-color: #00af00\">715</span> │ lstm_4[<span style=\"color: #00af00; text-decoration-color: #00af00\">0</span>][<span style=\"color: #00af00; text-decoration-color: #00af00\">0</span>],     │\n",
                            "│                     │                   │            │ lstm_4[<span style=\"color: #00af00; text-decoration-color: #00af00\">1</span>][<span style=\"color: #00af00; text-decoration-color: #00af00\">0</span>],     │\n",
                            "│                     │                   │            │ lstm_4[<span style=\"color: #00af00; text-decoration-color: #00af00\">2</span>][<span style=\"color: #00af00; text-decoration-color: #00af00\">0</span>],     │\n",
                            "│                     │                   │            │ lstm_4[<span style=\"color: #00af00; text-decoration-color: #00af00\">3</span>][<span style=\"color: #00af00; text-decoration-color: #00af00\">0</span>],     │\n",
                            "│                     │                   │            │ lstm_4[<span style=\"color: #00af00; text-decoration-color: #00af00\">4</span>][<span style=\"color: #00af00; text-decoration-color: #00af00\">0</span>],     │\n",
                            "│                     │                   │            │ lstm_4[<span style=\"color: #00af00; text-decoration-color: #00af00\">5</span>][<span style=\"color: #00af00; text-decoration-color: #00af00\">0</span>],     │\n",
                            "│                     │                   │            │ lstm_4[<span style=\"color: #00af00; text-decoration-color: #00af00\">6</span>][<span style=\"color: #00af00; text-decoration-color: #00af00\">0</span>],     │\n",
                            "│                     │                   │            │ lstm_4[<span style=\"color: #00af00; text-decoration-color: #00af00\">7</span>][<span style=\"color: #00af00; text-decoration-color: #00af00\">0</span>],     │\n",
                            "│                     │                   │            │ lstm_4[<span style=\"color: #00af00; text-decoration-color: #00af00\">8</span>][<span style=\"color: #00af00; text-decoration-color: #00af00\">0</span>],     │\n",
                            "│                     │                   │            │ lstm_4[<span style=\"color: #00af00; text-decoration-color: #00af00\">9</span>][<span style=\"color: #00af00; text-decoration-color: #00af00\">0</span>]      │\n",
                            "└─────────────────────┴───────────────────┴────────────┴───────────────────┘\n",
                            "</pre>\n"
                        ],
                        "text/plain": [
                            "┏━━━━━━━━━━━━━━━━━━━━━┳━━━━━━━━━━━━━━━━━━━┳━━━━━━━━━━━━┳━━━━━━━━━━━━━━━━━━━┓\n",
                            "┃\u001b[1m \u001b[0m\u001b[1mLayer (type)       \u001b[0m\u001b[1m \u001b[0m┃\u001b[1m \u001b[0m\u001b[1mOutput Shape     \u001b[0m\u001b[1m \u001b[0m┃\u001b[1m \u001b[0m\u001b[1m   Param #\u001b[0m\u001b[1m \u001b[0m┃\u001b[1m \u001b[0m\u001b[1mConnected to     \u001b[0m\u001b[1m \u001b[0m┃\n",
                            "┡━━━━━━━━━━━━━━━━━━━━━╇━━━━━━━━━━━━━━━━━━━╇━━━━━━━━━━━━╇━━━━━━━━━━━━━━━━━━━┩\n",
                            "│ X (\u001b[38;5;33mInputLayer\u001b[0m)      │ (\u001b[38;5;45mNone\u001b[0m, \u001b[38;5;34m30\u001b[0m, \u001b[38;5;34m37\u001b[0m)    │          \u001b[38;5;34m0\u001b[0m │ -                 │\n",
                            "├─────────────────────┼───────────────────┼────────────┼───────────────────┤\n",
                            "│ s0 (\u001b[38;5;33mInputLayer\u001b[0m)     │ (\u001b[38;5;45mNone\u001b[0m, \u001b[38;5;34m64\u001b[0m)        │          \u001b[38;5;34m0\u001b[0m │ -                 │\n",
                            "├─────────────────────┼───────────────────┼────────────┼───────────────────┤\n",
                            "│ bidirectional_4     │ (\u001b[38;5;45mNone\u001b[0m, \u001b[38;5;34m30\u001b[0m, \u001b[38;5;34m64\u001b[0m)    │     \u001b[38;5;34m17,920\u001b[0m │ X[\u001b[38;5;34m0\u001b[0m][\u001b[38;5;34m0\u001b[0m]           │\n",
                            "│ (\u001b[38;5;33mBidirectional\u001b[0m)     │                   │            │                   │\n",
                            "├─────────────────────┼───────────────────┼────────────┼───────────────────┤\n",
                            "│ repeat_vector_4     │ (\u001b[38;5;45mNone\u001b[0m, \u001b[38;5;34m30\u001b[0m, \u001b[38;5;34m64\u001b[0m)    │          \u001b[38;5;34m0\u001b[0m │ s0[\u001b[38;5;34m0\u001b[0m][\u001b[38;5;34m0\u001b[0m],         │\n",
                            "│ (\u001b[38;5;33mRepeatVector\u001b[0m)      │                   │            │ lstm_4[\u001b[38;5;34m0\u001b[0m][\u001b[38;5;34m0\u001b[0m],     │\n",
                            "│                     │                   │            │ lstm_4[\u001b[38;5;34m1\u001b[0m][\u001b[38;5;34m0\u001b[0m],     │\n",
                            "│                     │                   │            │ lstm_4[\u001b[38;5;34m2\u001b[0m][\u001b[38;5;34m0\u001b[0m],     │\n",
                            "│                     │                   │            │ lstm_4[\u001b[38;5;34m3\u001b[0m][\u001b[38;5;34m0\u001b[0m],     │\n",
                            "│                     │                   │            │ lstm_4[\u001b[38;5;34m4\u001b[0m][\u001b[38;5;34m0\u001b[0m],     │\n",
                            "│                     │                   │            │ lstm_4[\u001b[38;5;34m5\u001b[0m][\u001b[38;5;34m0\u001b[0m],     │\n",
                            "│                     │                   │            │ lstm_4[\u001b[38;5;34m6\u001b[0m][\u001b[38;5;34m0\u001b[0m],     │\n",
                            "│                     │                   │            │ lstm_4[\u001b[38;5;34m7\u001b[0m][\u001b[38;5;34m0\u001b[0m],     │\n",
                            "│                     │                   │            │ lstm_4[\u001b[38;5;34m8\u001b[0m][\u001b[38;5;34m0\u001b[0m]      │\n",
                            "├─────────────────────┼───────────────────┼────────────┼───────────────────┤\n",
                            "│ concatenate_4       │ (\u001b[38;5;45mNone\u001b[0m, \u001b[38;5;34m30\u001b[0m, \u001b[38;5;34m128\u001b[0m)   │          \u001b[38;5;34m0\u001b[0m │ bidirectional_4[\u001b[38;5;34m…\u001b[0m │\n",
                            "│ (\u001b[38;5;33mConcatenate\u001b[0m)       │                   │            │ repeat_vector_4[\u001b[38;5;34m…\u001b[0m │\n",
                            "│                     │                   │            │ bidirectional_4[\u001b[38;5;34m…\u001b[0m │\n",
                            "│                     │                   │            │ repeat_vector_4[\u001b[38;5;34m…\u001b[0m │\n",
                            "│                     │                   │            │ bidirectional_4[\u001b[38;5;34m…\u001b[0m │\n",
                            "│                     │                   │            │ repeat_vector_4[\u001b[38;5;34m…\u001b[0m │\n",
                            "│                     │                   │            │ bidirectional_4[\u001b[38;5;34m…\u001b[0m │\n",
                            "│                     │                   │            │ repeat_vector_4[\u001b[38;5;34m…\u001b[0m │\n",
                            "│                     │                   │            │ bidirectional_4[\u001b[38;5;34m…\u001b[0m │\n",
                            "│                     │                   │            │ repeat_vector_4[\u001b[38;5;34m…\u001b[0m │\n",
                            "│                     │                   │            │ bidirectional_4[\u001b[38;5;34m…\u001b[0m │\n",
                            "│                     │                   │            │ repeat_vector_4[\u001b[38;5;34m…\u001b[0m │\n",
                            "│                     │                   │            │ bidirectional_4[\u001b[38;5;34m…\u001b[0m │\n",
                            "│                     │                   │            │ repeat_vector_4[\u001b[38;5;34m…\u001b[0m │\n",
                            "│                     │                   │            │ bidirectional_4[\u001b[38;5;34m…\u001b[0m │\n",
                            "│                     │                   │            │ repeat_vector_4[\u001b[38;5;34m…\u001b[0m │\n",
                            "│                     │                   │            │ bidirectional_4[\u001b[38;5;34m…\u001b[0m │\n",
                            "│                     │                   │            │ repeat_vector_4[\u001b[38;5;34m…\u001b[0m │\n",
                            "│                     │                   │            │ bidirectional_4[\u001b[38;5;34m…\u001b[0m │\n",
                            "│                     │                   │            │ repeat_vector_4[\u001b[38;5;34m…\u001b[0m │\n",
                            "├─────────────────────┼───────────────────┼────────────┼───────────────────┤\n",
                            "│ Dense1 (\u001b[38;5;33mDense\u001b[0m)      │ (\u001b[38;5;45mNone\u001b[0m, \u001b[38;5;34m30\u001b[0m, \u001b[38;5;34m10\u001b[0m)    │      \u001b[38;5;34m1,290\u001b[0m │ concatenate_4[\u001b[38;5;34m0\u001b[0m]… │\n",
                            "│                     │                   │            │ concatenate_4[\u001b[38;5;34m1\u001b[0m]… │\n",
                            "│                     │                   │            │ concatenate_4[\u001b[38;5;34m2\u001b[0m]… │\n",
                            "│                     │                   │            │ concatenate_4[\u001b[38;5;34m3\u001b[0m]… │\n",
                            "│                     │                   │            │ concatenate_4[\u001b[38;5;34m4\u001b[0m]… │\n",
                            "│                     │                   │            │ concatenate_4[\u001b[38;5;34m5\u001b[0m]… │\n",
                            "│                     │                   │            │ concatenate_4[\u001b[38;5;34m6\u001b[0m]… │\n",
                            "│                     │                   │            │ concatenate_4[\u001b[38;5;34m7\u001b[0m]… │\n",
                            "│                     │                   │            │ concatenate_4[\u001b[38;5;34m8\u001b[0m]… │\n",
                            "│                     │                   │            │ concatenate_4[\u001b[38;5;34m9\u001b[0m]… │\n",
                            "├─────────────────────┼───────────────────┼────────────┼───────────────────┤\n",
                            "│ Dense2 (\u001b[38;5;33mDense\u001b[0m)      │ (\u001b[38;5;45mNone\u001b[0m, \u001b[38;5;34m30\u001b[0m, \u001b[38;5;34m1\u001b[0m)     │         \u001b[38;5;34m11\u001b[0m │ Dense1[\u001b[38;5;34m0\u001b[0m][\u001b[38;5;34m0\u001b[0m],     │\n",
                            "│                     │                   │            │ Dense1[\u001b[38;5;34m1\u001b[0m][\u001b[38;5;34m0\u001b[0m],     │\n",
                            "│                     │                   │            │ Dense1[\u001b[38;5;34m2\u001b[0m][\u001b[38;5;34m0\u001b[0m],     │\n",
                            "│                     │                   │            │ Dense1[\u001b[38;5;34m3\u001b[0m][\u001b[38;5;34m0\u001b[0m],     │\n",
                            "│                     │                   │            │ Dense1[\u001b[38;5;34m4\u001b[0m][\u001b[38;5;34m0\u001b[0m],     │\n",
                            "│                     │                   │            │ Dense1[\u001b[38;5;34m5\u001b[0m][\u001b[38;5;34m0\u001b[0m],     │\n",
                            "│                     │                   │            │ Dense1[\u001b[38;5;34m6\u001b[0m][\u001b[38;5;34m0\u001b[0m],     │\n",
                            "│                     │                   │            │ Dense1[\u001b[38;5;34m7\u001b[0m][\u001b[38;5;34m0\u001b[0m],     │\n",
                            "│                     │                   │            │ Dense1[\u001b[38;5;34m8\u001b[0m][\u001b[38;5;34m0\u001b[0m],     │\n",
                            "│                     │                   │            │ Dense1[\u001b[38;5;34m9\u001b[0m][\u001b[38;5;34m0\u001b[0m]      │\n",
                            "├─────────────────────┼───────────────────┼────────────┼───────────────────┤\n",
                            "│ attention_weights   │ (\u001b[38;5;45mNone\u001b[0m, \u001b[38;5;34m30\u001b[0m, \u001b[38;5;34m1\u001b[0m)     │          \u001b[38;5;34m0\u001b[0m │ Dense2[\u001b[38;5;34m0\u001b[0m][\u001b[38;5;34m0\u001b[0m],     │\n",
                            "│ (\u001b[38;5;33mActivation\u001b[0m)        │                   │            │ Dense2[\u001b[38;5;34m1\u001b[0m][\u001b[38;5;34m0\u001b[0m],     │\n",
                            "│                     │                   │            │ Dense2[\u001b[38;5;34m2\u001b[0m][\u001b[38;5;34m0\u001b[0m],     │\n",
                            "│                     │                   │            │ Dense2[\u001b[38;5;34m3\u001b[0m][\u001b[38;5;34m0\u001b[0m],     │\n",
                            "│                     │                   │            │ Dense2[\u001b[38;5;34m4\u001b[0m][\u001b[38;5;34m0\u001b[0m],     │\n",
                            "│                     │                   │            │ Dense2[\u001b[38;5;34m5\u001b[0m][\u001b[38;5;34m0\u001b[0m],     │\n",
                            "│                     │                   │            │ Dense2[\u001b[38;5;34m6\u001b[0m][\u001b[38;5;34m0\u001b[0m],     │\n",
                            "│                     │                   │            │ Dense2[\u001b[38;5;34m7\u001b[0m][\u001b[38;5;34m0\u001b[0m],     │\n",
                            "│                     │                   │            │ Dense2[\u001b[38;5;34m8\u001b[0m][\u001b[38;5;34m0\u001b[0m],     │\n",
                            "│                     │                   │            │ Dense2[\u001b[38;5;34m9\u001b[0m][\u001b[38;5;34m0\u001b[0m]      │\n",
                            "├─────────────────────┼───────────────────┼────────────┼───────────────────┤\n",
                            "│ dot_4 (\u001b[38;5;33mDot\u001b[0m)         │ (\u001b[38;5;45mNone\u001b[0m, \u001b[38;5;34m1\u001b[0m, \u001b[38;5;34m64\u001b[0m)     │          \u001b[38;5;34m0\u001b[0m │ attention_weight… │\n",
                            "│                     │                   │            │ bidirectional_4[\u001b[38;5;34m…\u001b[0m │\n",
                            "│                     │                   │            │ attention_weight… │\n",
                            "│                     │                   │            │ bidirectional_4[\u001b[38;5;34m…\u001b[0m │\n",
                            "│                     │                   │            │ attention_weight… │\n",
                            "│                     │                   │            │ bidirectional_4[\u001b[38;5;34m…\u001b[0m │\n",
                            "│                     │                   │            │ attention_weight… │\n",
                            "│                     │                   │            │ bidirectional_4[\u001b[38;5;34m…\u001b[0m │\n",
                            "│                     │                   │            │ attention_weight… │\n",
                            "│                     │                   │            │ bidirectional_4[\u001b[38;5;34m…\u001b[0m │\n",
                            "│                     │                   │            │ attention_weight… │\n",
                            "│                     │                   │            │ bidirectional_4[\u001b[38;5;34m…\u001b[0m │\n",
                            "│                     │                   │            │ attention_weight… │\n",
                            "│                     │                   │            │ bidirectional_4[\u001b[38;5;34m…\u001b[0m │\n",
                            "│                     │                   │            │ attention_weight… │\n",
                            "│                     │                   │            │ bidirectional_4[\u001b[38;5;34m…\u001b[0m │\n",
                            "│                     │                   │            │ attention_weight… │\n",
                            "│                     │                   │            │ bidirectional_4[\u001b[38;5;34m…\u001b[0m │\n",
                            "│                     │                   │            │ attention_weight… │\n",
                            "│                     │                   │            │ bidirectional_4[\u001b[38;5;34m…\u001b[0m │\n",
                            "├─────────────────────┼───────────────────┼────────────┼───────────────────┤\n",
                            "│ c0 (\u001b[38;5;33mInputLayer\u001b[0m)     │ (\u001b[38;5;45mNone\u001b[0m, \u001b[38;5;34m64\u001b[0m)        │          \u001b[38;5;34m0\u001b[0m │ -                 │\n",
                            "├─────────────────────┼───────────────────┼────────────┼───────────────────┤\n",
                            "│ lstm_4 (\u001b[38;5;33mLSTM\u001b[0m)       │ [(\u001b[38;5;45mNone\u001b[0m, \u001b[38;5;34m64\u001b[0m),      │     \u001b[38;5;34m33,024\u001b[0m │ dot_4[\u001b[38;5;34m0\u001b[0m][\u001b[38;5;34m0\u001b[0m],      │\n",
                            "│                     │ (\u001b[38;5;45mNone\u001b[0m, \u001b[38;5;34m64\u001b[0m),       │            │ s0[\u001b[38;5;34m0\u001b[0m][\u001b[38;5;34m0\u001b[0m],         │\n",
                            "│                     │ (\u001b[38;5;45mNone\u001b[0m, \u001b[38;5;34m64\u001b[0m)]       │            │ c0[\u001b[38;5;34m0\u001b[0m][\u001b[38;5;34m0\u001b[0m],         │\n",
                            "│                     │                   │            │ dot_4[\u001b[38;5;34m1\u001b[0m][\u001b[38;5;34m0\u001b[0m],      │\n",
                            "│                     │                   │            │ lstm_4[\u001b[38;5;34m0\u001b[0m][\u001b[38;5;34m0\u001b[0m],     │\n",
                            "│                     │                   │            │ lstm_4[\u001b[38;5;34m0\u001b[0m][\u001b[38;5;34m2\u001b[0m],     │\n",
                            "│                     │                   │            │ dot_4[\u001b[38;5;34m2\u001b[0m][\u001b[38;5;34m0\u001b[0m],      │\n",
                            "│                     │                   │            │ lstm_4[\u001b[38;5;34m1\u001b[0m][\u001b[38;5;34m0\u001b[0m],     │\n",
                            "│                     │                   │            │ lstm_4[\u001b[38;5;34m1\u001b[0m][\u001b[38;5;34m2\u001b[0m],     │\n",
                            "│                     │                   │            │ dot_4[\u001b[38;5;34m3\u001b[0m][\u001b[38;5;34m0\u001b[0m],      │\n",
                            "│                     │                   │            │ lstm_4[\u001b[38;5;34m2\u001b[0m][\u001b[38;5;34m0\u001b[0m],     │\n",
                            "│                     │                   │            │ lstm_4[\u001b[38;5;34m2\u001b[0m][\u001b[38;5;34m2\u001b[0m],     │\n",
                            "│                     │                   │            │ dot_4[\u001b[38;5;34m4\u001b[0m][\u001b[38;5;34m0\u001b[0m],      │\n",
                            "│                     │                   │            │ lstm_4[\u001b[38;5;34m3\u001b[0m][\u001b[38;5;34m0\u001b[0m],     │\n",
                            "│                     │                   │            │ lstm_4[\u001b[38;5;34m3\u001b[0m][\u001b[38;5;34m2\u001b[0m],     │\n",
                            "│                     │                   │            │ dot_4[\u001b[38;5;34m5\u001b[0m][\u001b[38;5;34m0\u001b[0m],      │\n",
                            "│                     │                   │            │ lstm_4[\u001b[38;5;34m4\u001b[0m][\u001b[38;5;34m0\u001b[0m],     │\n",
                            "│                     │                   │            │ lstm_4[\u001b[38;5;34m4\u001b[0m][\u001b[38;5;34m2\u001b[0m],     │\n",
                            "│                     │                   │            │ dot_4[\u001b[38;5;34m6\u001b[0m][\u001b[38;5;34m0\u001b[0m],      │\n",
                            "│                     │                   │            │ lstm_4[\u001b[38;5;34m5\u001b[0m][\u001b[38;5;34m0\u001b[0m],     │\n",
                            "│                     │                   │            │ lstm_4[\u001b[38;5;34m5\u001b[0m][\u001b[38;5;34m2\u001b[0m],     │\n",
                            "│                     │                   │            │ dot_4[\u001b[38;5;34m7\u001b[0m][\u001b[38;5;34m0\u001b[0m],      │\n",
                            "│                     │                   │            │ lstm_4[\u001b[38;5;34m6\u001b[0m][\u001b[38;5;34m0\u001b[0m],     │\n",
                            "│                     │                   │            │ lstm_4[\u001b[38;5;34m6\u001b[0m][\u001b[38;5;34m2\u001b[0m],     │\n",
                            "│                     │                   │            │ dot_4[\u001b[38;5;34m8\u001b[0m][\u001b[38;5;34m0\u001b[0m],      │\n",
                            "│                     │                   │            │ lstm_4[\u001b[38;5;34m7\u001b[0m][\u001b[38;5;34m0\u001b[0m],     │\n",
                            "│                     │                   │            │ lstm_4[\u001b[38;5;34m7\u001b[0m][\u001b[38;5;34m2\u001b[0m],     │\n",
                            "│                     │                   │            │ dot_4[\u001b[38;5;34m9\u001b[0m][\u001b[38;5;34m0\u001b[0m],      │\n",
                            "│                     │                   │            │ lstm_4[\u001b[38;5;34m8\u001b[0m][\u001b[38;5;34m0\u001b[0m],     │\n",
                            "│                     │                   │            │ lstm_4[\u001b[38;5;34m8\u001b[0m][\u001b[38;5;34m2\u001b[0m]      │\n",
                            "├─────────────────────┼───────────────────┼────────────┼───────────────────┤\n",
                            "│ dense_4 (\u001b[38;5;33mDense\u001b[0m)     │ (\u001b[38;5;45mNone\u001b[0m, \u001b[38;5;34m11\u001b[0m)        │        \u001b[38;5;34m715\u001b[0m │ lstm_4[\u001b[38;5;34m0\u001b[0m][\u001b[38;5;34m0\u001b[0m],     │\n",
                            "│                     │                   │            │ lstm_4[\u001b[38;5;34m1\u001b[0m][\u001b[38;5;34m0\u001b[0m],     │\n",
                            "│                     │                   │            │ lstm_4[\u001b[38;5;34m2\u001b[0m][\u001b[38;5;34m0\u001b[0m],     │\n",
                            "│                     │                   │            │ lstm_4[\u001b[38;5;34m3\u001b[0m][\u001b[38;5;34m0\u001b[0m],     │\n",
                            "│                     │                   │            │ lstm_4[\u001b[38;5;34m4\u001b[0m][\u001b[38;5;34m0\u001b[0m],     │\n",
                            "│                     │                   │            │ lstm_4[\u001b[38;5;34m5\u001b[0m][\u001b[38;5;34m0\u001b[0m],     │\n",
                            "│                     │                   │            │ lstm_4[\u001b[38;5;34m6\u001b[0m][\u001b[38;5;34m0\u001b[0m],     │\n",
                            "│                     │                   │            │ lstm_4[\u001b[38;5;34m7\u001b[0m][\u001b[38;5;34m0\u001b[0m],     │\n",
                            "│                     │                   │            │ lstm_4[\u001b[38;5;34m8\u001b[0m][\u001b[38;5;34m0\u001b[0m],     │\n",
                            "│                     │                   │            │ lstm_4[\u001b[38;5;34m9\u001b[0m][\u001b[38;5;34m0\u001b[0m]      │\n",
                            "└─────────────────────┴───────────────────┴────────────┴───────────────────┘\n"
                        ]
                    },
                    "metadata": {},
                    "output_type": "display_data"
                },
                {
                    "data": {
                        "text/html": [
                            "<pre style=\"white-space:pre;overflow-x:auto;line-height:normal;font-family:Menlo,'DejaVu Sans Mono',consolas,'Courier New',monospace\"><span style=\"font-weight: bold\"> Total params: </span><span style=\"color: #00af00; text-decoration-color: #00af00\">52,960</span> (206.88 KB)\n",
                            "</pre>\n"
                        ],
                        "text/plain": [
                            "\u001b[1m Total params: \u001b[0m\u001b[38;5;34m52,960\u001b[0m (206.88 KB)\n"
                        ]
                    },
                    "metadata": {},
                    "output_type": "display_data"
                },
                {
                    "data": {
                        "text/html": [
                            "<pre style=\"white-space:pre;overflow-x:auto;line-height:normal;font-family:Menlo,'DejaVu Sans Mono',consolas,'Courier New',monospace\"><span style=\"font-weight: bold\"> Trainable params: </span><span style=\"color: #00af00; text-decoration-color: #00af00\">52,960</span> (206.88 KB)\n",
                            "</pre>\n"
                        ],
                        "text/plain": [
                            "\u001b[1m Trainable params: \u001b[0m\u001b[38;5;34m52,960\u001b[0m (206.88 KB)\n"
                        ]
                    },
                    "metadata": {},
                    "output_type": "display_data"
                },
                {
                    "data": {
                        "text/html": [
                            "<pre style=\"white-space:pre;overflow-x:auto;line-height:normal;font-family:Menlo,'DejaVu Sans Mono',consolas,'Courier New',monospace\"><span style=\"font-weight: bold\"> Non-trainable params: </span><span style=\"color: #00af00; text-decoration-color: #00af00\">0</span> (0.00 B)\n",
                            "</pre>\n"
                        ],
                        "text/plain": [
                            "\u001b[1m Non-trainable params: \u001b[0m\u001b[38;5;34m0\u001b[0m (0.00 B)\n"
                        ]
                    },
                    "metadata": {},
                    "output_type": "display_data"
                }
            ],
            "source": [
                "model.summary()"
            ]
        },
        {
            "cell_type": "markdown",
            "metadata": {},
            "source": [
                "**Expected Output**:\n",
                "\n",
                "Here is the summary you should see\n",
                "<table>\n",
                "    <tr>\n",
                "        <td>\n",
                "            **Total params:**\n",
                "        </td>\n",
                "        <td>\n",
                "         185,484\n",
                "        </td>\n",
                "    </tr>\n",
                "        <tr>\n",
                "        <td>\n",
                "            **Trainable params:**\n",
                "        </td>\n",
                "        <td>\n",
                "         185,484\n",
                "        </td>\n",
                "    </tr>\n",
                "            <tr>\n",
                "        <td>\n",
                "            **Non-trainable params:**\n",
                "        </td>\n",
                "        <td>\n",
                "         0\n",
                "        </td>\n",
                "    </tr>\n",
                "                    <tr>\n",
                "        <td>\n",
                "            **bidirectional_1's output shape **\n",
                "        </td>\n",
                "        <td>\n",
                "         (None, 30, 128)  \n",
                "        </td>\n",
                "    </tr>\n",
                "    <tr>\n",
                "        <td>\n",
                "            **repeat_vector_1's output shape **\n",
                "        </td>\n",
                "        <td>\n",
                "         (None, 30, 128)  \n",
                "        </td>\n",
                "    </tr>\n",
                "                <tr>\n",
                "        <td>\n",
                "            **concatenate_1's output shape **\n",
                "        </td>\n",
                "        <td>\n",
                "         (None, 30, 256) \n",
                "        </td>\n",
                "    </tr>\n",
                "            <tr>\n",
                "        <td>\n",
                "            **attention_weights's output shape **\n",
                "        </td>\n",
                "        <td>\n",
                "         (None, 30, 1)  \n",
                "        </td>\n",
                "    </tr>\n",
                "        <tr>\n",
                "        <td>\n",
                "            **dot_1's output shape **\n",
                "        </td>\n",
                "        <td>\n",
                "         (None, 1, 128) \n",
                "        </td>\n",
                "    </tr>\n",
                "           <tr>\n",
                "        <td>\n",
                "            **dense_2's output shape **\n",
                "        </td>\n",
                "        <td>\n",
                "         (None, 11) \n",
                "        </td>\n",
                "    </tr>\n",
                "</table>\n"
            ]
        },
        {
            "cell_type": "markdown",
            "metadata": {},
            "source": [
                "As usual, after creating your model in Keras, you need to compile it and define what loss, optimizer and metrics your are want to use. Compile your model using `categorical_crossentropy` loss, a custom [Adam](https://keras.io/optimizers/#adam) [optimizer](https://keras.io/optimizers/#usage-of-optimizers) (`learning rate = 0.005`, $\\beta_1 = 0.9$, $\\beta_2 = 0.999$, `decay = 0.01`)  and `['accuracy']` metrics:"
            ]
        },
        {
            "cell_type": "code",
            "execution_count": 76,
            "metadata": {},
            "outputs": [
                {
                    "name": "stderr",
                    "output_type": "stream",
                    "text": [
                        "/Users/linzhenhui/miniforge3/envs/deeplearn/lib/python3.9/site-packages/keras/src/optimizers/base_optimizer.py:33: UserWarning: Argument `decay` is no longer supported and will be ignored.\n",
                        "  warnings.warn(\n"
                    ]
                }
            ],
            "source": [
                "### START CODE HERE ### (≈2 lines)\n",
                "from keras import optimizers\n",
                "\n",
                "opt = optimizers.Adam(\n",
                "    # lr=0.005, \n",
                "    beta_1=0.9, beta_2=0.999, epsilon=None, decay=0.001)\n",
                "model.compile(loss='categorical_crossentropy', optimizer='adam', metrics=['accuracy']*10)\n",
                "### END CODE HERE ###"
            ]
        },
        {
            "cell_type": "markdown",
            "metadata": {},
            "source": [
                "The last step is to define all your inputs and outputs to fit the model:\n",
                "- You already have X of shape $(m = 10000, T_x = 30)$ containing the training examples.\n",
                "- You need to create `s0` and `c0` to initialize your `post_activation_LSTM_cell` with 0s.\n",
                "- Given the `model()` you coded, you need the \"outputs\" to be a list of 11 elements of shape (m, T_y). So that: `outputs[i][0], ..., outputs[i][Ty]` represent the true labels (characters) corresponding to the $i^{th}$ training example (`X[i]`). More generally, `outputs[i][j]` is the true label of the $j^{th}$ character in the $i^{th}$ training example."
            ]
        },
        {
            "cell_type": "code",
            "execution_count": 77,
            "metadata": {
                "collapsed": true
            },
            "outputs": [],
            "source": [
                "s0 = np.zeros((m, n_s))\n",
                "c0 = np.zeros((m, n_s))\n",
                "outputs = list(Yoh.swapaxes(0,1))"
            ]
        },
        {
            "cell_type": "markdown",
            "metadata": {},
            "source": [
                "Let's now fit the model and run it for one epoch."
            ]
        },
        {
            "cell_type": "code",
            "execution_count": 78,
            "metadata": {},
            "outputs": [
                {
                    "name": "stdout",
                    "output_type": "stream",
                    "text": [
                        "\u001b[1m100/100\u001b[0m \u001b[32m━━━━━━━━━━━━━━━━━━━━\u001b[0m\u001b[37m\u001b[0m \u001b[1m32s\u001b[0m 235ms/step - dense_4_accuracy: 0.1514 - dense_4_accuracy_1: 0.4119 - dense_4_accuracy_2: 0.1656 - dense_4_accuracy_3: 0.0880 - dense_4_accuracy_4: 0.4959 - dense_4_accuracy_5: 0.3288 - dense_4_accuracy_6: 0.0409 - dense_4_accuracy_7: 0.5885 - dense_4_accuracy_8: 0.1221 - dense_4_accuracy_9: 0.0329 - dense_4_loss: 2.6887 - loss: 22.0768\n"
                    ]
                },
                {
                    "data": {
                        "text/plain": [
                            "<keras.src.callbacks.history.History at 0x38211fd30>"
                        ]
                    },
                    "execution_count": 78,
                    "metadata": {},
                    "output_type": "execute_result"
                }
            ],
            "source": [
                "model.fit([Xoh, s0, c0], outputs, epochs=1, batch_size=100)"
            ]
        },
        {
            "cell_type": "markdown",
            "metadata": {},
            "source": [
                "While training you can see the loss as well as the accuracy on each of the 10 positions of the output. The table below gives you an example of what the accuracies could be if the batch had 2 examples: \n",
                "\n",
                "<img src=\"images/table.png\" style=\"width:700;height:200px;\"> <br>\n",
                "<caption><center>Thus, `dense_2_acc_8: 0.89` means that you are predicting the 7th character of the output correctly 89% of the time in the current batch of data. </center></caption>\n",
                "\n",
                "\n",
                "We have run this model for longer, and saved the weights. Run the next cell to load our weights. (By training a model for several minutes, you should be able to obtain a model of similar accuracy, but loading our model will save you time.) "
            ]
        },
        {
            "cell_type": "code",
            "execution_count": 79,
            "metadata": {
                "collapsed": true
            },
            "outputs": [],
            "source": [
                "model.load_weights('models/model.h5')"
            ]
        },
        {
            "cell_type": "markdown",
            "metadata": {},
            "source": [
                "You can now see the results on new examples."
            ]
        },
        {
            "cell_type": "code",
            "execution_count": 80,
            "metadata": {},
            "outputs": [
                {
                    "name": "stdout",
                    "output_type": "stream",
                    "text": [
                        "(37, 30) source.shape\n"
                    ]
                },
                {
                    "ename": "ValueError",
                    "evalue": "Data cardinality is ambiguous. Make sure all arrays contain the same number of samples.'x' sizes: 37, 10000, 10000\n",
                    "output_type": "error",
                    "traceback": [
                        "\u001b[0;31m---------------------------------------------------------------------------\u001b[0m",
                        "\u001b[0;31mValueError\u001b[0m                                Traceback (most recent call last)",
                        "Cell \u001b[0;32mIn[80], line 8\u001b[0m\n\u001b[1;32m      6\u001b[0m     source \u001b[38;5;241m=\u001b[39m np\u001b[38;5;241m.\u001b[39marray(\u001b[38;5;28mlist\u001b[39m(\u001b[38;5;28mmap\u001b[39m(\u001b[38;5;28;01mlambda\u001b[39;00m x: to_categorical(x, num_classes\u001b[38;5;241m=\u001b[39m\u001b[38;5;28mlen\u001b[39m(human_vocab)), source)))\u001b[38;5;241m.\u001b[39mswapaxes(\u001b[38;5;241m0\u001b[39m,\u001b[38;5;241m1\u001b[39m)\n\u001b[1;32m      7\u001b[0m     \u001b[38;5;28mprint\u001b[39m(source\u001b[38;5;241m.\u001b[39mshape,\u001b[38;5;124m'\u001b[39m\u001b[38;5;124msource.shape\u001b[39m\u001b[38;5;124m'\u001b[39m)\n\u001b[0;32m----> 8\u001b[0m     prediction \u001b[38;5;241m=\u001b[39m \u001b[43mmodel\u001b[49m\u001b[38;5;241;43m.\u001b[39;49m\u001b[43mpredict\u001b[49m\u001b[43m(\u001b[49m\u001b[43m[\u001b[49m\u001b[43msource\u001b[49m\u001b[43m,\u001b[49m\u001b[43m \u001b[49m\u001b[43ms0\u001b[49m\u001b[43m,\u001b[49m\u001b[43m \u001b[49m\u001b[43mc0\u001b[49m\u001b[43m]\u001b[49m\u001b[43m)\u001b[49m\n\u001b[1;32m      9\u001b[0m \u001b[38;5;250m    \u001b[39m\u001b[38;5;124;03m\"\"\"ValueError: Data cardinality is ambiguous. Make sure all arrays contain the same number of samples.\u001b[39;00m\n\u001b[1;32m     10\u001b[0m \u001b[38;5;124;03m    'x' sizes: 37, 10000, 10000\u001b[39;00m\n\u001b[1;32m     11\u001b[0m \u001b[38;5;124;03m\"\"\"\u001b[39;00m\n\u001b[1;32m     12\u001b[0m     prediction \u001b[38;5;241m=\u001b[39m np\u001b[38;5;241m.\u001b[39margmax(prediction, axis \u001b[38;5;241m=\u001b[39m \u001b[38;5;241m-\u001b[39m\u001b[38;5;241m1\u001b[39m)\n",
                        "File \u001b[0;32m~/miniforge3/envs/deeplearn/lib/python3.9/site-packages/keras/src/utils/traceback_utils.py:122\u001b[0m, in \u001b[0;36mfilter_traceback.<locals>.error_handler\u001b[0;34m(*args, **kwargs)\u001b[0m\n\u001b[1;32m    119\u001b[0m     filtered_tb \u001b[38;5;241m=\u001b[39m _process_traceback_frames(e\u001b[38;5;241m.\u001b[39m__traceback__)\n\u001b[1;32m    120\u001b[0m     \u001b[38;5;66;03m# To get the full stack trace, call:\u001b[39;00m\n\u001b[1;32m    121\u001b[0m     \u001b[38;5;66;03m# `keras.config.disable_traceback_filtering()`\u001b[39;00m\n\u001b[0;32m--> 122\u001b[0m     \u001b[38;5;28;01mraise\u001b[39;00m e\u001b[38;5;241m.\u001b[39mwith_traceback(filtered_tb) \u001b[38;5;28;01mfrom\u001b[39;00m \u001b[38;5;28;01mNone\u001b[39;00m\n\u001b[1;32m    123\u001b[0m \u001b[38;5;28;01mfinally\u001b[39;00m:\n\u001b[1;32m    124\u001b[0m     \u001b[38;5;28;01mdel\u001b[39;00m filtered_tb\n",
                        "File \u001b[0;32m~/miniforge3/envs/deeplearn/lib/python3.9/site-packages/keras/src/trainers/data_adapters/data_adapter_utils.py:114\u001b[0m, in \u001b[0;36mcheck_data_cardinality\u001b[0;34m(data)\u001b[0m\n\u001b[1;32m    110\u001b[0m     sizes \u001b[38;5;241m=\u001b[39m \u001b[38;5;124m\"\u001b[39m\u001b[38;5;124m, \u001b[39m\u001b[38;5;124m\"\u001b[39m\u001b[38;5;241m.\u001b[39mjoin(\n\u001b[1;32m    111\u001b[0m         \u001b[38;5;28mstr\u001b[39m(i\u001b[38;5;241m.\u001b[39mshape[\u001b[38;5;241m0\u001b[39m]) \u001b[38;5;28;01mfor\u001b[39;00m i \u001b[38;5;129;01min\u001b[39;00m tree\u001b[38;5;241m.\u001b[39mflatten(single_data)\n\u001b[1;32m    112\u001b[0m     )\n\u001b[1;32m    113\u001b[0m     msg \u001b[38;5;241m+\u001b[39m\u001b[38;5;241m=\u001b[39m \u001b[38;5;124mf\u001b[39m\u001b[38;5;124m\"\u001b[39m\u001b[38;5;124m'\u001b[39m\u001b[38;5;132;01m{\u001b[39;00mlabel\u001b[38;5;132;01m}\u001b[39;00m\u001b[38;5;124m'\u001b[39m\u001b[38;5;124m sizes: \u001b[39m\u001b[38;5;132;01m{\u001b[39;00msizes\u001b[38;5;132;01m}\u001b[39;00m\u001b[38;5;130;01m\\n\u001b[39;00m\u001b[38;5;124m\"\u001b[39m\n\u001b[0;32m--> 114\u001b[0m \u001b[38;5;28;01mraise\u001b[39;00m \u001b[38;5;167;01mValueError\u001b[39;00m(msg)\n",
                        "\u001b[0;31mValueError\u001b[0m: Data cardinality is ambiguous. Make sure all arrays contain the same number of samples.'x' sizes: 37, 10000, 10000\n"
                    ]
                }
            ],
            "source": [
                "EXAMPLES = ['3 May 1979', '5 April 09', '21th of August 2016', 'Tue 10 Jul 2007', 'Saturday May 9 2018', 'March 3 2001', 'March 3rd 2001', '1 March 2001']\n",
                "for example in EXAMPLES:\n",
                "    \n",
                "    source = string_to_int(example, Tx, human_vocab)\n",
                "    # print(source.shape(),'source')\n",
                "    source = np.array(list(map(lambda x: to_categorical(x, num_classes=len(human_vocab)), source))).swapaxes(0,1)\n",
                "    print(source.shape,'source.shape')\n",
                "    prediction = model.predict([source, s0, c0])\n",
                "    \"\"\"ValueError: Data cardinality is ambiguous. Make sure all arrays contain the same number of samples.\n",
                "    'x' sizes: 37, 10000, 10000\n",
                "\"\"\"\n",
                "    prediction = np.argmax(prediction, axis = -1)\n",
                "    output = [inv_machine_vocab[int(i)] for i in prediction]\n",
                "    \n",
                "    print(\"source:\", example)\n",
                "    print(\"output:\", ''.join(output))\n",
                "\n"
            ]
        },
        {
            "cell_type": "markdown",
            "metadata": {},
            "source": [
                "You can also change these examples to test with your own examples. The next part will give you a better sense on what the attention mechanism is doing--i.e., what part of the input the network is paying attention to when generating a particular output character. "
            ]
        },
        {
            "cell_type": "markdown",
            "metadata": {},
            "source": [
                "## 3 - Visualizing Attention (Optional / Ungraded)\n",
                "\n",
                "Since the problem has a fixed output length of 10, it is also possible to carry out this task using 10 different softmax units to generate the 10 characters of the output. But one advantage of the attention model is that each part of the output (say the month) knows it needs to depend only on a small part of the input (the characters in the input giving the month). We can  visualize what part of the output is looking at what part of the input.\n",
                "\n",
                "Consider the task of translating \"Saturday 9 May 2018\" to \"2018-05-09\". If we visualize the computed $\\alpha^{\\langle t, t' \\rangle}$ we get this: \n",
                "\n",
                "<img src=\"images/date_attention.png\" style=\"width:600;height:300px;\"> <br>\n",
                "<caption><center> **Figure 8**: Full Attention Map</center></caption>\n",
                "\n",
                "Notice how the output ignores the \"Saturday\" portion of the input. None of the output timesteps are paying much attention to that portion of the input. We see also that 9 has been translated as 09 and May has been correctly translated into 05, with the output paying attention to the parts of the input it needs to to make the translation. The year mostly requires it to pay attention to the input's \"18\" in order to generate \"2018.\" \n",
                "\n"
            ]
        },
        {
            "cell_type": "markdown",
            "metadata": {},
            "source": [
                "### 3.1 - Getting the activations from the network\n",
                "\n",
                "Lets now visualize the attention values in your network. We'll propagate an example through the network, then visualize the values of $\\alpha^{\\langle t, t' \\rangle}$. \n",
                "\n",
                "To figure out where the attention values are located, let's start by printing a summary of the model ."
            ]
        },
        {
            "cell_type": "code",
            "execution_count": null,
            "metadata": {},
            "outputs": [
                {
                    "name": "stdout",
                    "output_type": "stream",
                    "text": [
                        "____________________________________________________________________________________________________\n",
                        "Layer (type)                     Output Shape          Param #     Connected to                     \n",
                        "====================================================================================================\n",
                        "X (InputLayer)                   (None, 30, 37)        0                                            \n",
                        "____________________________________________________________________________________________________\n",
                        "s0 (InputLayer)                  (None, 64)            0                                            \n",
                        "____________________________________________________________________________________________________\n",
                        "bidirectional_9 (Bidirectional)  (None, 30, 64)        17920       X[0][0]                          \n",
                        "____________________________________________________________________________________________________\n",
                        "repeat_vector_2 (RepeatVector)   (None, 30, 64)        0           s0[0][0]                         \n",
                        "                                                                   lstm_2[0][0]                     \n",
                        "                                                                   lstm_2[1][0]                     \n",
                        "                                                                   lstm_2[2][0]                     \n",
                        "                                                                   lstm_2[3][0]                     \n",
                        "                                                                   lstm_2[4][0]                     \n",
                        "                                                                   lstm_2[5][0]                     \n",
                        "                                                                   lstm_2[6][0]                     \n",
                        "                                                                   lstm_2[7][0]                     \n",
                        "                                                                   lstm_2[8][0]                     \n",
                        "____________________________________________________________________________________________________\n",
                        "concatenate_2 (Concatenate)      (None, 30, 128)       0           bidirectional_9[0][0]            \n",
                        "                                                                   repeat_vector_2[0][0]            \n",
                        "                                                                   bidirectional_9[0][0]            \n",
                        "                                                                   repeat_vector_2[1][0]            \n",
                        "                                                                   bidirectional_9[0][0]            \n",
                        "                                                                   repeat_vector_2[2][0]            \n",
                        "                                                                   bidirectional_9[0][0]            \n",
                        "                                                                   repeat_vector_2[3][0]            \n",
                        "                                                                   bidirectional_9[0][0]            \n",
                        "                                                                   repeat_vector_2[4][0]            \n",
                        "                                                                   bidirectional_9[0][0]            \n",
                        "                                                                   repeat_vector_2[5][0]            \n",
                        "                                                                   bidirectional_9[0][0]            \n",
                        "                                                                   repeat_vector_2[6][0]            \n",
                        "                                                                   bidirectional_9[0][0]            \n",
                        "                                                                   repeat_vector_2[7][0]            \n",
                        "                                                                   bidirectional_9[0][0]            \n",
                        "                                                                   repeat_vector_2[8][0]            \n",
                        "                                                                   bidirectional_9[0][0]            \n",
                        "                                                                   repeat_vector_2[9][0]            \n",
                        "____________________________________________________________________________________________________\n",
                        "Dense1 (Dense)                   (None, 30, 10)        1290        concatenate_2[0][0]              \n",
                        "                                                                   concatenate_2[1][0]              \n",
                        "                                                                   concatenate_2[2][0]              \n",
                        "                                                                   concatenate_2[3][0]              \n",
                        "                                                                   concatenate_2[4][0]              \n",
                        "                                                                   concatenate_2[5][0]              \n",
                        "                                                                   concatenate_2[6][0]              \n",
                        "                                                                   concatenate_2[7][0]              \n",
                        "                                                                   concatenate_2[8][0]              \n",
                        "                                                                   concatenate_2[9][0]              \n",
                        "____________________________________________________________________________________________________\n",
                        "Dense2 (Dense)                   (None, 30, 1)         11          Dense1[0][0]                     \n",
                        "                                                                   Dense1[1][0]                     \n",
                        "                                                                   Dense1[2][0]                     \n",
                        "                                                                   Dense1[3][0]                     \n",
                        "                                                                   Dense1[4][0]                     \n",
                        "                                                                   Dense1[5][0]                     \n",
                        "                                                                   Dense1[6][0]                     \n",
                        "                                                                   Dense1[7][0]                     \n",
                        "                                                                   Dense1[8][0]                     \n",
                        "                                                                   Dense1[9][0]                     \n",
                        "____________________________________________________________________________________________________\n",
                        "attention_weights (Activation)   (None, 30, 1)         0           Dense2[0][0]                     \n",
                        "                                                                   Dense2[1][0]                     \n",
                        "                                                                   Dense2[2][0]                     \n",
                        "                                                                   Dense2[3][0]                     \n",
                        "                                                                   Dense2[4][0]                     \n",
                        "                                                                   Dense2[5][0]                     \n",
                        "                                                                   Dense2[6][0]                     \n",
                        "                                                                   Dense2[7][0]                     \n",
                        "                                                                   Dense2[8][0]                     \n",
                        "                                                                   Dense2[9][0]                     \n",
                        "____________________________________________________________________________________________________\n",
                        "dot_2 (Dot)                      (None, 1, 64)         0           attention_weights[0][0]          \n",
                        "                                                                   bidirectional_9[0][0]            \n",
                        "                                                                   attention_weights[1][0]          \n",
                        "                                                                   bidirectional_9[0][0]            \n",
                        "                                                                   attention_weights[2][0]          \n",
                        "                                                                   bidirectional_9[0][0]            \n",
                        "                                                                   attention_weights[3][0]          \n",
                        "                                                                   bidirectional_9[0][0]            \n",
                        "                                                                   attention_weights[4][0]          \n",
                        "                                                                   bidirectional_9[0][0]            \n",
                        "                                                                   attention_weights[5][0]          \n",
                        "                                                                   bidirectional_9[0][0]            \n",
                        "                                                                   attention_weights[6][0]          \n",
                        "                                                                   bidirectional_9[0][0]            \n",
                        "                                                                   attention_weights[7][0]          \n",
                        "                                                                   bidirectional_9[0][0]            \n",
                        "                                                                   attention_weights[8][0]          \n",
                        "                                                                   bidirectional_9[0][0]            \n",
                        "                                                                   attention_weights[9][0]          \n",
                        "                                                                   bidirectional_9[0][0]            \n",
                        "____________________________________________________________________________________________________\n",
                        "c0 (InputLayer)                  (None, 64)            0                                            \n",
                        "____________________________________________________________________________________________________\n",
                        "lstm_2 (LSTM)                    [(None, 64), (None, 6 33024       dot_2[0][0]                      \n",
                        "                                                                   s0[0][0]                         \n",
                        "                                                                   c0[0][0]                         \n",
                        "                                                                   dot_2[1][0]                      \n",
                        "                                                                   lstm_2[0][0]                     \n",
                        "                                                                   lstm_2[0][2]                     \n",
                        "                                                                   dot_2[2][0]                      \n",
                        "                                                                   lstm_2[1][0]                     \n",
                        "                                                                   lstm_2[1][2]                     \n",
                        "                                                                   dot_2[3][0]                      \n",
                        "                                                                   lstm_2[2][0]                     \n",
                        "                                                                   lstm_2[2][2]                     \n",
                        "                                                                   dot_2[4][0]                      \n",
                        "                                                                   lstm_2[3][0]                     \n",
                        "                                                                   lstm_2[3][2]                     \n",
                        "                                                                   dot_2[5][0]                      \n",
                        "                                                                   lstm_2[4][0]                     \n",
                        "                                                                   lstm_2[4][2]                     \n",
                        "                                                                   dot_2[6][0]                      \n",
                        "                                                                   lstm_2[5][0]                     \n",
                        "                                                                   lstm_2[5][2]                     \n",
                        "                                                                   dot_2[7][0]                      \n",
                        "                                                                   lstm_2[6][0]                     \n",
                        "                                                                   lstm_2[6][2]                     \n",
                        "                                                                   dot_2[8][0]                      \n",
                        "                                                                   lstm_2[7][0]                     \n",
                        "                                                                   lstm_2[7][2]                     \n",
                        "                                                                   dot_2[9][0]                      \n",
                        "                                                                   lstm_2[8][0]                     \n",
                        "                                                                   lstm_2[8][2]                     \n",
                        "____________________________________________________________________________________________________\n",
                        "dense_4 (Dense)                  (None, 11)            715         lstm_2[0][0]                     \n",
                        "                                                                   lstm_2[1][0]                     \n",
                        "                                                                   lstm_2[2][0]                     \n",
                        "                                                                   lstm_2[3][0]                     \n",
                        "                                                                   lstm_2[4][0]                     \n",
                        "                                                                   lstm_2[5][0]                     \n",
                        "                                                                   lstm_2[6][0]                     \n",
                        "                                                                   lstm_2[7][0]                     \n",
                        "                                                                   lstm_2[8][0]                     \n",
                        "                                                                   lstm_2[9][0]                     \n",
                        "====================================================================================================\n",
                        "Total params: 52,960\n",
                        "Trainable params: 52,960\n",
                        "Non-trainable params: 0\n",
                        "____________________________________________________________________________________________________\n"
                    ]
                }
            ],
            "source": [
                "model.summary()"
            ]
        },
        {
            "cell_type": "markdown",
            "metadata": {},
            "source": [
                "Navigate through the output of `model.summary()` above. You can see that the layer named `attention_weights` outputs the `alphas` of shape (m, 30, 1) before `dot_2` computes the context vector for every time step $t = 0, \\ldots, T_y-1$. Lets get the activations from this layer.\n",
                "\n",
                "The function `attention_map()` pulls out the attention values from your model and plots them."
            ]
        },
        {
            "cell_type": "code",
            "execution_count": null,
            "metadata": {
                "scrolled": false
            },
            "outputs": [
                {
                    "data": {
                        "text/plain": [
                            "<matplotlib.figure.Figure at 0x7fd57142ec88>"
                        ]
                    },
                    "metadata": {},
                    "output_type": "display_data"
                },
                {
                    "data": {
                        "image/png": "[encoded data removed]",
                        "text/plain": [
                            "<matplotlib.figure.Figure at 0x7fd516d65550>"
                        ]
                    },
                    "metadata": {},
                    "output_type": "display_data"
                }
            ],
            "source": [
                "attention_map = plot_attention_map(model, human_vocab, inv_machine_vocab, \"Tuesday 09 Oct 1993\", num = 7, n_s = 64)\n",
                "print('done')"
            ]
        },
        {
            "cell_type": "markdown",
            "metadata": {},
            "source": [
                "On the generated plot you can observe the values of the attention weights for each character of the predicted output. Examine this plot and check that where the network is paying attention makes sense to you.\n",
                "\n",
                "In the date translation application, you will observe that most of the time attention helps predict the year, and hasn't much impact on predicting the day/month."
            ]
        },
        {
            "cell_type": "markdown",
            "metadata": {},
            "source": [
                "### Congratulations!\n",
                "\n",
                "\n",
                "You have come to the end of this assignment \n",
                "\n",
                "<font color='blue'> **Here's what you should remember from this notebook**:\n",
                "\n",
                "- Machine translation models can be used to map from one sequence to another. They are useful not just for translating human languages (like French->English) but also for tasks like date format translation. \n",
                "- An attention mechanism allows a network to focus on the most relevant parts of the input when producing a specific part of the output. \n",
                "- A network using an attention mechanism can translate from inputs of length $T_x$ to outputs of length $T_y$, where $T_x$ and $T_y$ can be different. \n",
                "- You can visualize attention weights $\\alpha^{\\langle t,t' \\rangle}$ to see what the network is paying attention to while generating each output."
            ]
        },
        {
            "cell_type": "markdown",
            "metadata": {},
            "source": [
                "Congratulations on finishing this assignment! You are now able to implement an attention model and use it to learn complex mappings from one sequence to another. "
            ]
        }
    ],
    "metadata": {
        "coursera": {
            "course_slug": "nlp-sequence-models",
            "graded_item_id": "n16CQ",
            "launcher_item_id": "npjGi"
        },
        "kernelspec": {
            "display_name": "Python 3",
            "language": "python",
            "name": "python3"
        },
        "language_info": {
            "codemirror_mode": {
                "name": "ipython",
                "version": 3
            },
            "file_extension": ".py",
            "mimetype": "text/x-python",
            "name": "python",
            "nbconvert_exporter": "python",
            "pygments_lexer": "ipython3",
            "version": "3.9.19"
        }
    },
    "nbformat": 4,
    "nbformat_minor": 2
}
